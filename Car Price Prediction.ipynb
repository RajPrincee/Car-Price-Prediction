{
 "cells": [
  {
   "cell_type": "markdown",
   "id": "75464753",
   "metadata": {},
   "source": [
    "# Car Price Prediction Project"
   ]
  },
  {
   "cell_type": "markdown",
   "id": "3bba5f1a",
   "metadata": {},
   "source": [
    "        With the covid 19 impact in the market, we have seen lot of changes in the car market. Now some cars are in demand hence making them costly and some are not in demand hence cheaper. One of our clients works with small traders, who sell used cars. With the change in market due to covid 19 impact, our client is facing problems with their previous car price valuation machine learning models. So, they are looking for new machine learning models from new data. We have to make car price valuation model."
   ]
  },
  {
   "cell_type": "code",
   "execution_count": 1,
   "id": "da8af08e",
   "metadata": {},
   "outputs": [],
   "source": [
    "#Let's import the required libraries\n",
    "\n",
    "import pandas as pd\n",
    "import numpy as np\n",
    "import seaborn as sns\n",
    "import matplotlib.pyplot as plt\n",
    "import warnings\n",
    "warnings.filterwarnings('ignore')"
   ]
  },
  {
   "cell_type": "code",
   "execution_count": 2,
   "id": "7befabea",
   "metadata": {},
   "outputs": [
    {
     "data": {
      "text/html": [
       "<div>\n",
       "<style scoped>\n",
       "    .dataframe tbody tr th:only-of-type {\n",
       "        vertical-align: middle;\n",
       "    }\n",
       "\n",
       "    .dataframe tbody tr th {\n",
       "        vertical-align: top;\n",
       "    }\n",
       "\n",
       "    .dataframe thead th {\n",
       "        text-align: right;\n",
       "    }\n",
       "</style>\n",
       "<table border=\"1\" class=\"dataframe\">\n",
       "  <thead>\n",
       "    <tr style=\"text-align: right;\">\n",
       "      <th></th>\n",
       "      <th>Unnamed: 0</th>\n",
       "      <th>Car Name</th>\n",
       "      <th>Year</th>\n",
       "      <th>Kilometers</th>\n",
       "      <th>Fuel</th>\n",
       "      <th>Location</th>\n",
       "      <th>EMI</th>\n",
       "      <th>Price</th>\n",
       "    </tr>\n",
       "  </thead>\n",
       "  <tbody>\n",
       "    <tr>\n",
       "      <th>0</th>\n",
       "      <td>0</td>\n",
       "      <td>Mercedes-Benz M-Class ML 350 CDI</td>\n",
       "      <td>2015</td>\n",
       "      <td>76,345 km</td>\n",
       "      <td>Diesel</td>\n",
       "      <td>Gurgaon</td>\n",
       "      <td>EMI starts at₹44,588</td>\n",
       "      <td>26.85 Lakh</td>\n",
       "    </tr>\n",
       "    <tr>\n",
       "      <th>1</th>\n",
       "      <td>1</td>\n",
       "      <td>Maruti Suzuki Ignis Delta 1.2 AMT</td>\n",
       "      <td>2019</td>\n",
       "      <td>38,386 km</td>\n",
       "      <td>Petrol</td>\n",
       "      <td>Gurgaon</td>\n",
       "      <td>EMI starts at₹8,776</td>\n",
       "      <td>5.29 Lakh</td>\n",
       "    </tr>\n",
       "    <tr>\n",
       "      <th>2</th>\n",
       "      <td>2</td>\n",
       "      <td>Maruti Suzuki Swift Lxi ABS (O)</td>\n",
       "      <td>2017</td>\n",
       "      <td>18,001 km</td>\n",
       "      <td>Petrol</td>\n",
       "      <td>Delhi</td>\n",
       "      <td>EMI starts at₹8,054</td>\n",
       "      <td>4.85 Lakh</td>\n",
       "    </tr>\n",
       "    <tr>\n",
       "      <th>3</th>\n",
       "      <td>3</td>\n",
       "      <td>Mahindra Thar LX 4-STR Convertible Diesel AT</td>\n",
       "      <td>2021</td>\n",
       "      <td>5,000 km</td>\n",
       "      <td>Diesel</td>\n",
       "      <td>Delhi</td>\n",
       "      <td>EMI starts at₹29,725</td>\n",
       "      <td>17.9 Lakh</td>\n",
       "    </tr>\n",
       "    <tr>\n",
       "      <th>4</th>\n",
       "      <td>4</td>\n",
       "      <td>Hyundai Eon Era +</td>\n",
       "      <td>2012</td>\n",
       "      <td>57,718 km</td>\n",
       "      <td>Petrol</td>\n",
       "      <td>Noida</td>\n",
       "      <td>EMI starts at₹3,653</td>\n",
       "      <td>2.2 Lakh</td>\n",
       "    </tr>\n",
       "    <tr>\n",
       "      <th>...</th>\n",
       "      <td>...</td>\n",
       "      <td>...</td>\n",
       "      <td>...</td>\n",
       "      <td>...</td>\n",
       "      <td>...</td>\n",
       "      <td>...</td>\n",
       "      <td>...</td>\n",
       "      <td>...</td>\n",
       "    </tr>\n",
       "    <tr>\n",
       "      <th>9995</th>\n",
       "      <td>9995</td>\n",
       "      <td>MINI Cooper Countryman Cooper D</td>\n",
       "      <td>2022</td>\n",
       "      <td>3,000 km</td>\n",
       "      <td>Petrol</td>\n",
       "      <td>Gurgaon</td>\n",
       "      <td>EMI starts at₹32,798</td>\n",
       "      <td>7.3 Lakh</td>\n",
       "    </tr>\n",
       "    <tr>\n",
       "      <th>9996</th>\n",
       "      <td>9996</td>\n",
       "      <td>Audi A6 Technology 45 TFSI</td>\n",
       "      <td>2022</td>\n",
       "      <td>82,000 km</td>\n",
       "      <td>Petrol</td>\n",
       "      <td>Gurgaon</td>\n",
       "      <td>EMI starts at₹58,123</td>\n",
       "      <td>3.35 Lakh</td>\n",
       "    </tr>\n",
       "    <tr>\n",
       "      <th>9997</th>\n",
       "      <td>9997</td>\n",
       "      <td>MG Hector Sharp 2.0 Diesel Turbo MT</td>\n",
       "      <td>2019</td>\n",
       "      <td>16,500 km</td>\n",
       "      <td>Petrol</td>\n",
       "      <td>Gurgaon</td>\n",
       "      <td>EMI starts at₹29,725</td>\n",
       "      <td>5.35 Lakh</td>\n",
       "    </tr>\n",
       "    <tr>\n",
       "      <th>9998</th>\n",
       "      <td>9998</td>\n",
       "      <td>Jaguar XE Prestige</td>\n",
       "      <td>2017</td>\n",
       "      <td>950 km</td>\n",
       "      <td>Diesel</td>\n",
       "      <td>Delhi</td>\n",
       "      <td>EMI starts at₹1.33 L</td>\n",
       "      <td>3.1 Lakh</td>\n",
       "    </tr>\n",
       "    <tr>\n",
       "      <th>9999</th>\n",
       "      <td>9999</td>\n",
       "      <td>BMW 3 Series Gran Limousine 320Ld Luxury Line</td>\n",
       "      <td>2019</td>\n",
       "      <td>16,500 km</td>\n",
       "      <td>Petrol</td>\n",
       "      <td>Noida</td>\n",
       "      <td>EMI starts at₹89,676</td>\n",
       "      <td>4.25 Lakh</td>\n",
       "    </tr>\n",
       "  </tbody>\n",
       "</table>\n",
       "<p>10000 rows × 8 columns</p>\n",
       "</div>"
      ],
      "text/plain": [
       "      Unnamed: 0                                       Car Name  Year  \\\n",
       "0              0               Mercedes-Benz M-Class ML 350 CDI  2015   \n",
       "1              1              Maruti Suzuki Ignis Delta 1.2 AMT  2019   \n",
       "2              2                Maruti Suzuki Swift Lxi ABS (O)  2017   \n",
       "3              3   Mahindra Thar LX 4-STR Convertible Diesel AT  2021   \n",
       "4              4                              Hyundai Eon Era +  2012   \n",
       "...          ...                                            ...   ...   \n",
       "9995        9995                MINI Cooper Countryman Cooper D  2022   \n",
       "9996        9996                     Audi A6 Technology 45 TFSI  2022   \n",
       "9997        9997            MG Hector Sharp 2.0 Diesel Turbo MT  2019   \n",
       "9998        9998                             Jaguar XE Prestige  2017   \n",
       "9999        9999  BMW 3 Series Gran Limousine 320Ld Luxury Line  2019   \n",
       "\n",
       "     Kilometers    Fuel Location                   EMI       Price  \n",
       "0     76,345 km  Diesel  Gurgaon  EMI starts at₹44,588  26.85 Lakh  \n",
       "1     38,386 km  Petrol  Gurgaon   EMI starts at₹8,776   5.29 Lakh  \n",
       "2     18,001 km  Petrol    Delhi   EMI starts at₹8,054   4.85 Lakh  \n",
       "3      5,000 km  Diesel    Delhi  EMI starts at₹29,725   17.9 Lakh  \n",
       "4     57,718 km  Petrol    Noida   EMI starts at₹3,653    2.2 Lakh  \n",
       "...         ...     ...      ...                   ...         ...  \n",
       "9995   3,000 km  Petrol  Gurgaon  EMI starts at₹32,798    7.3 Lakh  \n",
       "9996  82,000 km  Petrol  Gurgaon  EMI starts at₹58,123   3.35 Lakh  \n",
       "9997  16,500 km  Petrol  Gurgaon  EMI starts at₹29,725   5.35 Lakh  \n",
       "9998     950 km  Diesel    Delhi  EMI starts at₹1.33 L    3.1 Lakh  \n",
       "9999  16,500 km  Petrol    Noida  EMI starts at₹89,676   4.25 Lakh  \n",
       "\n",
       "[10000 rows x 8 columns]"
      ]
     },
     "execution_count": 2,
     "metadata": {},
     "output_type": "execute_result"
    }
   ],
   "source": [
    "#reading the csv file\n",
    "df=pd.read_csv('Carwale Used Cars data.csv')\n",
    "df"
   ]
  },
  {
   "cell_type": "code",
   "execution_count": 3,
   "id": "37d8eb78",
   "metadata": {},
   "outputs": [
    {
     "name": "stdout",
     "output_type": "stream",
     "text": [
      "<class 'pandas.core.frame.DataFrame'>\n",
      "RangeIndex: 10000 entries, 0 to 9999\n",
      "Data columns (total 8 columns):\n",
      " #   Column      Non-Null Count  Dtype \n",
      "---  ------      --------------  ----- \n",
      " 0   Unnamed: 0  10000 non-null  int64 \n",
      " 1   Car Name    10000 non-null  object\n",
      " 2   Year        10000 non-null  int64 \n",
      " 3   Kilometers  10000 non-null  object\n",
      " 4   Fuel        10000 non-null  object\n",
      " 5   Location    10000 non-null  object\n",
      " 6   EMI         10000 non-null  object\n",
      " 7   Price       10000 non-null  object\n",
      "dtypes: int64(2), object(6)\n",
      "memory usage: 625.1+ KB\n"
     ]
    }
   ],
   "source": [
    "df.info()"
   ]
  },
  {
   "cell_type": "markdown",
   "id": "fe75f7c2",
   "metadata": {},
   "source": [
    "# Features Description\n",
    "\n",
    "Car Name : Name of the Car\n",
    "\n",
    "Year : Car Manufactured Year\n",
    "    \n",
    "Kilometers : Kilometers run my car\n",
    "\n",
    "Fuel : Fuel used by car\n",
    "\n",
    "Location : Location of the car\n",
    "\n",
    "EMI : EMI of the car\n",
    "\n",
    "Price : Selling price of the car"
   ]
  },
  {
   "cell_type": "code",
   "execution_count": 4,
   "id": "6c273c90",
   "metadata": {},
   "outputs": [
    {
     "data": {
      "text/html": [
       "<div>\n",
       "<style scoped>\n",
       "    .dataframe tbody tr th:only-of-type {\n",
       "        vertical-align: middle;\n",
       "    }\n",
       "\n",
       "    .dataframe tbody tr th {\n",
       "        vertical-align: top;\n",
       "    }\n",
       "\n",
       "    .dataframe thead th {\n",
       "        text-align: right;\n",
       "    }\n",
       "</style>\n",
       "<table border=\"1\" class=\"dataframe\">\n",
       "  <thead>\n",
       "    <tr style=\"text-align: right;\">\n",
       "      <th></th>\n",
       "      <th>Unnamed: 0</th>\n",
       "      <th>Car Name</th>\n",
       "      <th>Year</th>\n",
       "      <th>Kilometers</th>\n",
       "      <th>Fuel</th>\n",
       "      <th>Location</th>\n",
       "      <th>EMI</th>\n",
       "      <th>Price</th>\n",
       "      <th>Brand_Name</th>\n",
       "      <th>Car_Name</th>\n",
       "    </tr>\n",
       "  </thead>\n",
       "  <tbody>\n",
       "    <tr>\n",
       "      <th>0</th>\n",
       "      <td>0</td>\n",
       "      <td>Mercedes-Benz M-Class ML 350 CDI</td>\n",
       "      <td>2015</td>\n",
       "      <td>76,345 km</td>\n",
       "      <td>Diesel</td>\n",
       "      <td>Gurgaon</td>\n",
       "      <td>EMI starts at₹44,588</td>\n",
       "      <td>26.85 Lakh</td>\n",
       "      <td>Mercedes-Benz</td>\n",
       "      <td>M-Class ML 350 CDI</td>\n",
       "    </tr>\n",
       "    <tr>\n",
       "      <th>1</th>\n",
       "      <td>1</td>\n",
       "      <td>Maruti Suzuki Ignis Delta 1.2 AMT</td>\n",
       "      <td>2019</td>\n",
       "      <td>38,386 km</td>\n",
       "      <td>Petrol</td>\n",
       "      <td>Gurgaon</td>\n",
       "      <td>EMI starts at₹8,776</td>\n",
       "      <td>5.29 Lakh</td>\n",
       "      <td>Maruti</td>\n",
       "      <td>Suzuki Ignis Delta 1.2 AMT</td>\n",
       "    </tr>\n",
       "    <tr>\n",
       "      <th>2</th>\n",
       "      <td>2</td>\n",
       "      <td>Maruti Suzuki Swift Lxi ABS (O)</td>\n",
       "      <td>2017</td>\n",
       "      <td>18,001 km</td>\n",
       "      <td>Petrol</td>\n",
       "      <td>Delhi</td>\n",
       "      <td>EMI starts at₹8,054</td>\n",
       "      <td>4.85 Lakh</td>\n",
       "      <td>Maruti</td>\n",
       "      <td>Suzuki Swift Lxi ABS (O)</td>\n",
       "    </tr>\n",
       "    <tr>\n",
       "      <th>3</th>\n",
       "      <td>3</td>\n",
       "      <td>Mahindra Thar LX 4-STR Convertible Diesel AT</td>\n",
       "      <td>2021</td>\n",
       "      <td>5,000 km</td>\n",
       "      <td>Diesel</td>\n",
       "      <td>Delhi</td>\n",
       "      <td>EMI starts at₹29,725</td>\n",
       "      <td>17.9 Lakh</td>\n",
       "      <td>Mahindra</td>\n",
       "      <td>Thar LX 4-STR Convertible Diesel AT</td>\n",
       "    </tr>\n",
       "    <tr>\n",
       "      <th>4</th>\n",
       "      <td>4</td>\n",
       "      <td>Hyundai Eon Era +</td>\n",
       "      <td>2012</td>\n",
       "      <td>57,718 km</td>\n",
       "      <td>Petrol</td>\n",
       "      <td>Noida</td>\n",
       "      <td>EMI starts at₹3,653</td>\n",
       "      <td>2.2 Lakh</td>\n",
       "      <td>Hyundai</td>\n",
       "      <td>Eon Era +</td>\n",
       "    </tr>\n",
       "    <tr>\n",
       "      <th>...</th>\n",
       "      <td>...</td>\n",
       "      <td>...</td>\n",
       "      <td>...</td>\n",
       "      <td>...</td>\n",
       "      <td>...</td>\n",
       "      <td>...</td>\n",
       "      <td>...</td>\n",
       "      <td>...</td>\n",
       "      <td>...</td>\n",
       "      <td>...</td>\n",
       "    </tr>\n",
       "    <tr>\n",
       "      <th>9995</th>\n",
       "      <td>9995</td>\n",
       "      <td>MINI Cooper Countryman Cooper D</td>\n",
       "      <td>2022</td>\n",
       "      <td>3,000 km</td>\n",
       "      <td>Petrol</td>\n",
       "      <td>Gurgaon</td>\n",
       "      <td>EMI starts at₹32,798</td>\n",
       "      <td>7.3 Lakh</td>\n",
       "      <td>MINI</td>\n",
       "      <td>Cooper Countryman Cooper D</td>\n",
       "    </tr>\n",
       "    <tr>\n",
       "      <th>9996</th>\n",
       "      <td>9996</td>\n",
       "      <td>Audi A6 Technology 45 TFSI</td>\n",
       "      <td>2022</td>\n",
       "      <td>82,000 km</td>\n",
       "      <td>Petrol</td>\n",
       "      <td>Gurgaon</td>\n",
       "      <td>EMI starts at₹58,123</td>\n",
       "      <td>3.35 Lakh</td>\n",
       "      <td>Audi</td>\n",
       "      <td>A6 Technology 45 TFSI</td>\n",
       "    </tr>\n",
       "    <tr>\n",
       "      <th>9997</th>\n",
       "      <td>9997</td>\n",
       "      <td>MG Hector Sharp 2.0 Diesel Turbo MT</td>\n",
       "      <td>2019</td>\n",
       "      <td>16,500 km</td>\n",
       "      <td>Petrol</td>\n",
       "      <td>Gurgaon</td>\n",
       "      <td>EMI starts at₹29,725</td>\n",
       "      <td>5.35 Lakh</td>\n",
       "      <td>MG</td>\n",
       "      <td>Hector Sharp 2.0 Diesel Turbo MT</td>\n",
       "    </tr>\n",
       "    <tr>\n",
       "      <th>9998</th>\n",
       "      <td>9998</td>\n",
       "      <td>Jaguar XE Prestige</td>\n",
       "      <td>2017</td>\n",
       "      <td>950 km</td>\n",
       "      <td>Diesel</td>\n",
       "      <td>Delhi</td>\n",
       "      <td>EMI starts at₹1.33 L</td>\n",
       "      <td>3.1 Lakh</td>\n",
       "      <td>Jaguar</td>\n",
       "      <td>XE Prestige</td>\n",
       "    </tr>\n",
       "    <tr>\n",
       "      <th>9999</th>\n",
       "      <td>9999</td>\n",
       "      <td>BMW 3 Series Gran Limousine 320Ld Luxury Line</td>\n",
       "      <td>2019</td>\n",
       "      <td>16,500 km</td>\n",
       "      <td>Petrol</td>\n",
       "      <td>Noida</td>\n",
       "      <td>EMI starts at₹89,676</td>\n",
       "      <td>4.25 Lakh</td>\n",
       "      <td>BMW</td>\n",
       "      <td>3 Series Gran Limousine 320Ld Luxury Line</td>\n",
       "    </tr>\n",
       "  </tbody>\n",
       "</table>\n",
       "<p>10000 rows × 10 columns</p>\n",
       "</div>"
      ],
      "text/plain": [
       "      Unnamed: 0                                       Car Name  Year  \\\n",
       "0              0               Mercedes-Benz M-Class ML 350 CDI  2015   \n",
       "1              1              Maruti Suzuki Ignis Delta 1.2 AMT  2019   \n",
       "2              2                Maruti Suzuki Swift Lxi ABS (O)  2017   \n",
       "3              3   Mahindra Thar LX 4-STR Convertible Diesel AT  2021   \n",
       "4              4                              Hyundai Eon Era +  2012   \n",
       "...          ...                                            ...   ...   \n",
       "9995        9995                MINI Cooper Countryman Cooper D  2022   \n",
       "9996        9996                     Audi A6 Technology 45 TFSI  2022   \n",
       "9997        9997            MG Hector Sharp 2.0 Diesel Turbo MT  2019   \n",
       "9998        9998                             Jaguar XE Prestige  2017   \n",
       "9999        9999  BMW 3 Series Gran Limousine 320Ld Luxury Line  2019   \n",
       "\n",
       "     Kilometers    Fuel Location                   EMI       Price  \\\n",
       "0     76,345 km  Diesel  Gurgaon  EMI starts at₹44,588  26.85 Lakh   \n",
       "1     38,386 km  Petrol  Gurgaon   EMI starts at₹8,776   5.29 Lakh   \n",
       "2     18,001 km  Petrol    Delhi   EMI starts at₹8,054   4.85 Lakh   \n",
       "3      5,000 km  Diesel    Delhi  EMI starts at₹29,725   17.9 Lakh   \n",
       "4     57,718 km  Petrol    Noida   EMI starts at₹3,653    2.2 Lakh   \n",
       "...         ...     ...      ...                   ...         ...   \n",
       "9995   3,000 km  Petrol  Gurgaon  EMI starts at₹32,798    7.3 Lakh   \n",
       "9996  82,000 km  Petrol  Gurgaon  EMI starts at₹58,123   3.35 Lakh   \n",
       "9997  16,500 km  Petrol  Gurgaon  EMI starts at₹29,725   5.35 Lakh   \n",
       "9998     950 km  Diesel    Delhi  EMI starts at₹1.33 L    3.1 Lakh   \n",
       "9999  16,500 km  Petrol    Noida  EMI starts at₹89,676   4.25 Lakh   \n",
       "\n",
       "         Brand_Name                                   Car_Name  \n",
       "0     Mercedes-Benz                         M-Class ML 350 CDI  \n",
       "1            Maruti                 Suzuki Ignis Delta 1.2 AMT  \n",
       "2            Maruti                   Suzuki Swift Lxi ABS (O)  \n",
       "3          Mahindra        Thar LX 4-STR Convertible Diesel AT  \n",
       "4           Hyundai                                  Eon Era +  \n",
       "...             ...                                        ...  \n",
       "9995           MINI                 Cooper Countryman Cooper D  \n",
       "9996           Audi                      A6 Technology 45 TFSI  \n",
       "9997             MG           Hector Sharp 2.0 Diesel Turbo MT  \n",
       "9998         Jaguar                                XE Prestige  \n",
       "9999            BMW  3 Series Gran Limousine 320Ld Luxury Line  \n",
       "\n",
       "[10000 rows x 10 columns]"
      ]
     },
     "execution_count": 4,
     "metadata": {},
     "output_type": "execute_result"
    }
   ],
   "source": [
    "df[[\"Brand_Name\",\"Car_Name\"]] = df[\"Car Name\"].str.split(' ',n=1,expand=True)\n",
    "df"
   ]
  },
  {
   "cell_type": "code",
   "execution_count": 5,
   "id": "92468b46",
   "metadata": {},
   "outputs": [
    {
     "data": {
      "text/html": [
       "<div>\n",
       "<style scoped>\n",
       "    .dataframe tbody tr th:only-of-type {\n",
       "        vertical-align: middle;\n",
       "    }\n",
       "\n",
       "    .dataframe tbody tr th {\n",
       "        vertical-align: top;\n",
       "    }\n",
       "\n",
       "    .dataframe thead th {\n",
       "        text-align: right;\n",
       "    }\n",
       "</style>\n",
       "<table border=\"1\" class=\"dataframe\">\n",
       "  <thead>\n",
       "    <tr style=\"text-align: right;\">\n",
       "      <th></th>\n",
       "      <th>Car Name</th>\n",
       "      <th>Year</th>\n",
       "      <th>Kilometers</th>\n",
       "      <th>Fuel</th>\n",
       "      <th>Location</th>\n",
       "      <th>EMI</th>\n",
       "      <th>Price</th>\n",
       "      <th>Brand_Name</th>\n",
       "      <th>Car_Name</th>\n",
       "    </tr>\n",
       "  </thead>\n",
       "  <tbody>\n",
       "    <tr>\n",
       "      <th>0</th>\n",
       "      <td>Mercedes-Benz M-Class ML 350 CDI</td>\n",
       "      <td>2015</td>\n",
       "      <td>76,345 km</td>\n",
       "      <td>Diesel</td>\n",
       "      <td>Gurgaon</td>\n",
       "      <td>EMI starts at₹44,588</td>\n",
       "      <td>26.85 Lakh</td>\n",
       "      <td>Mercedes-Benz</td>\n",
       "      <td>M-Class ML 350 CDI</td>\n",
       "    </tr>\n",
       "    <tr>\n",
       "      <th>1</th>\n",
       "      <td>Maruti Suzuki Ignis Delta 1.2 AMT</td>\n",
       "      <td>2019</td>\n",
       "      <td>38,386 km</td>\n",
       "      <td>Petrol</td>\n",
       "      <td>Gurgaon</td>\n",
       "      <td>EMI starts at₹8,776</td>\n",
       "      <td>5.29 Lakh</td>\n",
       "      <td>Maruti</td>\n",
       "      <td>Suzuki Ignis Delta 1.2 AMT</td>\n",
       "    </tr>\n",
       "    <tr>\n",
       "      <th>2</th>\n",
       "      <td>Maruti Suzuki Swift Lxi ABS (O)</td>\n",
       "      <td>2017</td>\n",
       "      <td>18,001 km</td>\n",
       "      <td>Petrol</td>\n",
       "      <td>Delhi</td>\n",
       "      <td>EMI starts at₹8,054</td>\n",
       "      <td>4.85 Lakh</td>\n",
       "      <td>Maruti</td>\n",
       "      <td>Suzuki Swift Lxi ABS (O)</td>\n",
       "    </tr>\n",
       "    <tr>\n",
       "      <th>3</th>\n",
       "      <td>Mahindra Thar LX 4-STR Convertible Diesel AT</td>\n",
       "      <td>2021</td>\n",
       "      <td>5,000 km</td>\n",
       "      <td>Diesel</td>\n",
       "      <td>Delhi</td>\n",
       "      <td>EMI starts at₹29,725</td>\n",
       "      <td>17.9 Lakh</td>\n",
       "      <td>Mahindra</td>\n",
       "      <td>Thar LX 4-STR Convertible Diesel AT</td>\n",
       "    </tr>\n",
       "    <tr>\n",
       "      <th>4</th>\n",
       "      <td>Hyundai Eon Era +</td>\n",
       "      <td>2012</td>\n",
       "      <td>57,718 km</td>\n",
       "      <td>Petrol</td>\n",
       "      <td>Noida</td>\n",
       "      <td>EMI starts at₹3,653</td>\n",
       "      <td>2.2 Lakh</td>\n",
       "      <td>Hyundai</td>\n",
       "      <td>Eon Era +</td>\n",
       "    </tr>\n",
       "    <tr>\n",
       "      <th>...</th>\n",
       "      <td>...</td>\n",
       "      <td>...</td>\n",
       "      <td>...</td>\n",
       "      <td>...</td>\n",
       "      <td>...</td>\n",
       "      <td>...</td>\n",
       "      <td>...</td>\n",
       "      <td>...</td>\n",
       "      <td>...</td>\n",
       "    </tr>\n",
       "    <tr>\n",
       "      <th>9995</th>\n",
       "      <td>MINI Cooper Countryman Cooper D</td>\n",
       "      <td>2022</td>\n",
       "      <td>3,000 km</td>\n",
       "      <td>Petrol</td>\n",
       "      <td>Gurgaon</td>\n",
       "      <td>EMI starts at₹32,798</td>\n",
       "      <td>7.3 Lakh</td>\n",
       "      <td>MINI</td>\n",
       "      <td>Cooper Countryman Cooper D</td>\n",
       "    </tr>\n",
       "    <tr>\n",
       "      <th>9996</th>\n",
       "      <td>Audi A6 Technology 45 TFSI</td>\n",
       "      <td>2022</td>\n",
       "      <td>82,000 km</td>\n",
       "      <td>Petrol</td>\n",
       "      <td>Gurgaon</td>\n",
       "      <td>EMI starts at₹58,123</td>\n",
       "      <td>3.35 Lakh</td>\n",
       "      <td>Audi</td>\n",
       "      <td>A6 Technology 45 TFSI</td>\n",
       "    </tr>\n",
       "    <tr>\n",
       "      <th>9997</th>\n",
       "      <td>MG Hector Sharp 2.0 Diesel Turbo MT</td>\n",
       "      <td>2019</td>\n",
       "      <td>16,500 km</td>\n",
       "      <td>Petrol</td>\n",
       "      <td>Gurgaon</td>\n",
       "      <td>EMI starts at₹29,725</td>\n",
       "      <td>5.35 Lakh</td>\n",
       "      <td>MG</td>\n",
       "      <td>Hector Sharp 2.0 Diesel Turbo MT</td>\n",
       "    </tr>\n",
       "    <tr>\n",
       "      <th>9998</th>\n",
       "      <td>Jaguar XE Prestige</td>\n",
       "      <td>2017</td>\n",
       "      <td>950 km</td>\n",
       "      <td>Diesel</td>\n",
       "      <td>Delhi</td>\n",
       "      <td>EMI starts at₹1.33 L</td>\n",
       "      <td>3.1 Lakh</td>\n",
       "      <td>Jaguar</td>\n",
       "      <td>XE Prestige</td>\n",
       "    </tr>\n",
       "    <tr>\n",
       "      <th>9999</th>\n",
       "      <td>BMW 3 Series Gran Limousine 320Ld Luxury Line</td>\n",
       "      <td>2019</td>\n",
       "      <td>16,500 km</td>\n",
       "      <td>Petrol</td>\n",
       "      <td>Noida</td>\n",
       "      <td>EMI starts at₹89,676</td>\n",
       "      <td>4.25 Lakh</td>\n",
       "      <td>BMW</td>\n",
       "      <td>3 Series Gran Limousine 320Ld Luxury Line</td>\n",
       "    </tr>\n",
       "  </tbody>\n",
       "</table>\n",
       "<p>10000 rows × 9 columns</p>\n",
       "</div>"
      ],
      "text/plain": [
       "                                           Car Name  Year Kilometers    Fuel  \\\n",
       "0                  Mercedes-Benz M-Class ML 350 CDI  2015  76,345 km  Diesel   \n",
       "1                 Maruti Suzuki Ignis Delta 1.2 AMT  2019  38,386 km  Petrol   \n",
       "2                   Maruti Suzuki Swift Lxi ABS (O)  2017  18,001 km  Petrol   \n",
       "3      Mahindra Thar LX 4-STR Convertible Diesel AT  2021   5,000 km  Diesel   \n",
       "4                                 Hyundai Eon Era +  2012  57,718 km  Petrol   \n",
       "...                                             ...   ...        ...     ...   \n",
       "9995                MINI Cooper Countryman Cooper D  2022   3,000 km  Petrol   \n",
       "9996                     Audi A6 Technology 45 TFSI  2022  82,000 km  Petrol   \n",
       "9997            MG Hector Sharp 2.0 Diesel Turbo MT  2019  16,500 km  Petrol   \n",
       "9998                             Jaguar XE Prestige  2017     950 km  Diesel   \n",
       "9999  BMW 3 Series Gran Limousine 320Ld Luxury Line  2019  16,500 km  Petrol   \n",
       "\n",
       "     Location                   EMI       Price     Brand_Name  \\\n",
       "0     Gurgaon  EMI starts at₹44,588  26.85 Lakh  Mercedes-Benz   \n",
       "1     Gurgaon   EMI starts at₹8,776   5.29 Lakh         Maruti   \n",
       "2       Delhi   EMI starts at₹8,054   4.85 Lakh         Maruti   \n",
       "3       Delhi  EMI starts at₹29,725   17.9 Lakh       Mahindra   \n",
       "4       Noida   EMI starts at₹3,653    2.2 Lakh        Hyundai   \n",
       "...       ...                   ...         ...            ...   \n",
       "9995  Gurgaon  EMI starts at₹32,798    7.3 Lakh           MINI   \n",
       "9996  Gurgaon  EMI starts at₹58,123   3.35 Lakh           Audi   \n",
       "9997  Gurgaon  EMI starts at₹29,725   5.35 Lakh             MG   \n",
       "9998    Delhi  EMI starts at₹1.33 L    3.1 Lakh         Jaguar   \n",
       "9999    Noida  EMI starts at₹89,676   4.25 Lakh            BMW   \n",
       "\n",
       "                                       Car_Name  \n",
       "0                            M-Class ML 350 CDI  \n",
       "1                    Suzuki Ignis Delta 1.2 AMT  \n",
       "2                      Suzuki Swift Lxi ABS (O)  \n",
       "3           Thar LX 4-STR Convertible Diesel AT  \n",
       "4                                     Eon Era +  \n",
       "...                                         ...  \n",
       "9995                 Cooper Countryman Cooper D  \n",
       "9996                      A6 Technology 45 TFSI  \n",
       "9997           Hector Sharp 2.0 Diesel Turbo MT  \n",
       "9998                                XE Prestige  \n",
       "9999  3 Series Gran Limousine 320Ld Luxury Line  \n",
       "\n",
       "[10000 rows x 9 columns]"
      ]
     },
     "execution_count": 5,
     "metadata": {},
     "output_type": "execute_result"
    }
   ],
   "source": [
    "#Lets drop off  unnecessary columns\n",
    "df.drop('Unnamed: 0',axis=1,inplace=True)\n",
    "df"
   ]
  },
  {
   "cell_type": "markdown",
   "id": "22db6309",
   "metadata": {},
   "source": [
    "Since we have split data from Car Name column lets drop off 'Car Name' Column"
   ]
  },
  {
   "cell_type": "code",
   "execution_count": 6,
   "id": "3d02fe26",
   "metadata": {},
   "outputs": [
    {
     "data": {
      "text/html": [
       "<div>\n",
       "<style scoped>\n",
       "    .dataframe tbody tr th:only-of-type {\n",
       "        vertical-align: middle;\n",
       "    }\n",
       "\n",
       "    .dataframe tbody tr th {\n",
       "        vertical-align: top;\n",
       "    }\n",
       "\n",
       "    .dataframe thead th {\n",
       "        text-align: right;\n",
       "    }\n",
       "</style>\n",
       "<table border=\"1\" class=\"dataframe\">\n",
       "  <thead>\n",
       "    <tr style=\"text-align: right;\">\n",
       "      <th></th>\n",
       "      <th>Year</th>\n",
       "      <th>Kilometers</th>\n",
       "      <th>Fuel</th>\n",
       "      <th>Location</th>\n",
       "      <th>EMI</th>\n",
       "      <th>Price</th>\n",
       "      <th>Brand_Name</th>\n",
       "      <th>Car_Name</th>\n",
       "    </tr>\n",
       "  </thead>\n",
       "  <tbody>\n",
       "    <tr>\n",
       "      <th>0</th>\n",
       "      <td>2015</td>\n",
       "      <td>76,345 km</td>\n",
       "      <td>Diesel</td>\n",
       "      <td>Gurgaon</td>\n",
       "      <td>EMI starts at₹44,588</td>\n",
       "      <td>26.85 Lakh</td>\n",
       "      <td>Mercedes-Benz</td>\n",
       "      <td>M-Class ML 350 CDI</td>\n",
       "    </tr>\n",
       "    <tr>\n",
       "      <th>1</th>\n",
       "      <td>2019</td>\n",
       "      <td>38,386 km</td>\n",
       "      <td>Petrol</td>\n",
       "      <td>Gurgaon</td>\n",
       "      <td>EMI starts at₹8,776</td>\n",
       "      <td>5.29 Lakh</td>\n",
       "      <td>Maruti</td>\n",
       "      <td>Suzuki Ignis Delta 1.2 AMT</td>\n",
       "    </tr>\n",
       "    <tr>\n",
       "      <th>2</th>\n",
       "      <td>2017</td>\n",
       "      <td>18,001 km</td>\n",
       "      <td>Petrol</td>\n",
       "      <td>Delhi</td>\n",
       "      <td>EMI starts at₹8,054</td>\n",
       "      <td>4.85 Lakh</td>\n",
       "      <td>Maruti</td>\n",
       "      <td>Suzuki Swift Lxi ABS (O)</td>\n",
       "    </tr>\n",
       "    <tr>\n",
       "      <th>3</th>\n",
       "      <td>2021</td>\n",
       "      <td>5,000 km</td>\n",
       "      <td>Diesel</td>\n",
       "      <td>Delhi</td>\n",
       "      <td>EMI starts at₹29,725</td>\n",
       "      <td>17.9 Lakh</td>\n",
       "      <td>Mahindra</td>\n",
       "      <td>Thar LX 4-STR Convertible Diesel AT</td>\n",
       "    </tr>\n",
       "    <tr>\n",
       "      <th>4</th>\n",
       "      <td>2012</td>\n",
       "      <td>57,718 km</td>\n",
       "      <td>Petrol</td>\n",
       "      <td>Noida</td>\n",
       "      <td>EMI starts at₹3,653</td>\n",
       "      <td>2.2 Lakh</td>\n",
       "      <td>Hyundai</td>\n",
       "      <td>Eon Era +</td>\n",
       "    </tr>\n",
       "    <tr>\n",
       "      <th>...</th>\n",
       "      <td>...</td>\n",
       "      <td>...</td>\n",
       "      <td>...</td>\n",
       "      <td>...</td>\n",
       "      <td>...</td>\n",
       "      <td>...</td>\n",
       "      <td>...</td>\n",
       "      <td>...</td>\n",
       "    </tr>\n",
       "    <tr>\n",
       "      <th>9995</th>\n",
       "      <td>2022</td>\n",
       "      <td>3,000 km</td>\n",
       "      <td>Petrol</td>\n",
       "      <td>Gurgaon</td>\n",
       "      <td>EMI starts at₹32,798</td>\n",
       "      <td>7.3 Lakh</td>\n",
       "      <td>MINI</td>\n",
       "      <td>Cooper Countryman Cooper D</td>\n",
       "    </tr>\n",
       "    <tr>\n",
       "      <th>9996</th>\n",
       "      <td>2022</td>\n",
       "      <td>82,000 km</td>\n",
       "      <td>Petrol</td>\n",
       "      <td>Gurgaon</td>\n",
       "      <td>EMI starts at₹58,123</td>\n",
       "      <td>3.35 Lakh</td>\n",
       "      <td>Audi</td>\n",
       "      <td>A6 Technology 45 TFSI</td>\n",
       "    </tr>\n",
       "    <tr>\n",
       "      <th>9997</th>\n",
       "      <td>2019</td>\n",
       "      <td>16,500 km</td>\n",
       "      <td>Petrol</td>\n",
       "      <td>Gurgaon</td>\n",
       "      <td>EMI starts at₹29,725</td>\n",
       "      <td>5.35 Lakh</td>\n",
       "      <td>MG</td>\n",
       "      <td>Hector Sharp 2.0 Diesel Turbo MT</td>\n",
       "    </tr>\n",
       "    <tr>\n",
       "      <th>9998</th>\n",
       "      <td>2017</td>\n",
       "      <td>950 km</td>\n",
       "      <td>Diesel</td>\n",
       "      <td>Delhi</td>\n",
       "      <td>EMI starts at₹1.33 L</td>\n",
       "      <td>3.1 Lakh</td>\n",
       "      <td>Jaguar</td>\n",
       "      <td>XE Prestige</td>\n",
       "    </tr>\n",
       "    <tr>\n",
       "      <th>9999</th>\n",
       "      <td>2019</td>\n",
       "      <td>16,500 km</td>\n",
       "      <td>Petrol</td>\n",
       "      <td>Noida</td>\n",
       "      <td>EMI starts at₹89,676</td>\n",
       "      <td>4.25 Lakh</td>\n",
       "      <td>BMW</td>\n",
       "      <td>3 Series Gran Limousine 320Ld Luxury Line</td>\n",
       "    </tr>\n",
       "  </tbody>\n",
       "</table>\n",
       "<p>10000 rows × 8 columns</p>\n",
       "</div>"
      ],
      "text/plain": [
       "      Year Kilometers    Fuel Location                   EMI       Price  \\\n",
       "0     2015  76,345 km  Diesel  Gurgaon  EMI starts at₹44,588  26.85 Lakh   \n",
       "1     2019  38,386 km  Petrol  Gurgaon   EMI starts at₹8,776   5.29 Lakh   \n",
       "2     2017  18,001 km  Petrol    Delhi   EMI starts at₹8,054   4.85 Lakh   \n",
       "3     2021   5,000 km  Diesel    Delhi  EMI starts at₹29,725   17.9 Lakh   \n",
       "4     2012  57,718 km  Petrol    Noida   EMI starts at₹3,653    2.2 Lakh   \n",
       "...    ...        ...     ...      ...                   ...         ...   \n",
       "9995  2022   3,000 km  Petrol  Gurgaon  EMI starts at₹32,798    7.3 Lakh   \n",
       "9996  2022  82,000 km  Petrol  Gurgaon  EMI starts at₹58,123   3.35 Lakh   \n",
       "9997  2019  16,500 km  Petrol  Gurgaon  EMI starts at₹29,725   5.35 Lakh   \n",
       "9998  2017     950 km  Diesel    Delhi  EMI starts at₹1.33 L    3.1 Lakh   \n",
       "9999  2019  16,500 km  Petrol    Noida  EMI starts at₹89,676   4.25 Lakh   \n",
       "\n",
       "         Brand_Name                                   Car_Name  \n",
       "0     Mercedes-Benz                         M-Class ML 350 CDI  \n",
       "1            Maruti                 Suzuki Ignis Delta 1.2 AMT  \n",
       "2            Maruti                   Suzuki Swift Lxi ABS (O)  \n",
       "3          Mahindra        Thar LX 4-STR Convertible Diesel AT  \n",
       "4           Hyundai                                  Eon Era +  \n",
       "...             ...                                        ...  \n",
       "9995           MINI                 Cooper Countryman Cooper D  \n",
       "9996           Audi                      A6 Technology 45 TFSI  \n",
       "9997             MG           Hector Sharp 2.0 Diesel Turbo MT  \n",
       "9998         Jaguar                                XE Prestige  \n",
       "9999            BMW  3 Series Gran Limousine 320Ld Luxury Line  \n",
       "\n",
       "[10000 rows x 8 columns]"
      ]
     },
     "execution_count": 6,
     "metadata": {},
     "output_type": "execute_result"
    }
   ],
   "source": [
    "#Lets drop off  unnecessary columns\n",
    "df.drop('Car Name',axis=1,inplace=True)\n",
    "df"
   ]
  },
  {
   "cell_type": "markdown",
   "id": "8afb4e7f",
   "metadata": {},
   "source": [
    "Lets split 'EMI' Column"
   ]
  },
  {
   "cell_type": "code",
   "execution_count": 12,
   "id": "19cddea7",
   "metadata": {},
   "outputs": [
    {
     "data": {
      "text/plain": [
       "0       [EMI starts at, 44,588]\n",
       "1        [EMI starts at, 8,776]\n",
       "2        [EMI starts at, 8,054]\n",
       "3       [EMI starts at, 29,725]\n",
       "4        [EMI starts at, 3,653]\n",
       "                 ...           \n",
       "9995    [EMI starts at, 32,798]\n",
       "9996    [EMI starts at, 58,123]\n",
       "9997    [EMI starts at, 29,725]\n",
       "9998    [EMI starts at, 1.33 L]\n",
       "9999    [EMI starts at, 89,676]\n",
       "Name: EMI, Length: 10000, dtype: object"
      ]
     },
     "execution_count": 12,
     "metadata": {},
     "output_type": "execute_result"
    }
   ],
   "source": [
    "df[\"EMI\"].str.split('₹',n=1)"
   ]
  },
  {
   "cell_type": "code",
   "execution_count": 14,
   "id": "1796775f",
   "metadata": {},
   "outputs": [
    {
     "data": {
      "text/html": [
       "<div>\n",
       "<style scoped>\n",
       "    .dataframe tbody tr th:only-of-type {\n",
       "        vertical-align: middle;\n",
       "    }\n",
       "\n",
       "    .dataframe tbody tr th {\n",
       "        vertical-align: top;\n",
       "    }\n",
       "\n",
       "    .dataframe thead th {\n",
       "        text-align: right;\n",
       "    }\n",
       "</style>\n",
       "<table border=\"1\" class=\"dataframe\">\n",
       "  <thead>\n",
       "    <tr style=\"text-align: right;\">\n",
       "      <th></th>\n",
       "      <th>None</th>\n",
       "      <th>EMI Amount</th>\n",
       "    </tr>\n",
       "  </thead>\n",
       "  <tbody>\n",
       "    <tr>\n",
       "      <th>0</th>\n",
       "      <td>EMI starts at</td>\n",
       "      <td>44,588</td>\n",
       "    </tr>\n",
       "    <tr>\n",
       "      <th>1</th>\n",
       "      <td>EMI starts at</td>\n",
       "      <td>8,776</td>\n",
       "    </tr>\n",
       "    <tr>\n",
       "      <th>2</th>\n",
       "      <td>EMI starts at</td>\n",
       "      <td>8,054</td>\n",
       "    </tr>\n",
       "    <tr>\n",
       "      <th>3</th>\n",
       "      <td>EMI starts at</td>\n",
       "      <td>29,725</td>\n",
       "    </tr>\n",
       "    <tr>\n",
       "      <th>4</th>\n",
       "      <td>EMI starts at</td>\n",
       "      <td>3,653</td>\n",
       "    </tr>\n",
       "    <tr>\n",
       "      <th>...</th>\n",
       "      <td>...</td>\n",
       "      <td>...</td>\n",
       "    </tr>\n",
       "    <tr>\n",
       "      <th>9995</th>\n",
       "      <td>EMI starts at</td>\n",
       "      <td>32,798</td>\n",
       "    </tr>\n",
       "    <tr>\n",
       "      <th>9996</th>\n",
       "      <td>EMI starts at</td>\n",
       "      <td>58,123</td>\n",
       "    </tr>\n",
       "    <tr>\n",
       "      <th>9997</th>\n",
       "      <td>EMI starts at</td>\n",
       "      <td>29,725</td>\n",
       "    </tr>\n",
       "    <tr>\n",
       "      <th>9998</th>\n",
       "      <td>EMI starts at</td>\n",
       "      <td>1.33 L</td>\n",
       "    </tr>\n",
       "    <tr>\n",
       "      <th>9999</th>\n",
       "      <td>EMI starts at</td>\n",
       "      <td>89,676</td>\n",
       "    </tr>\n",
       "  </tbody>\n",
       "</table>\n",
       "<p>10000 rows × 2 columns</p>\n",
       "</div>"
      ],
      "text/plain": [
       "               None EMI Amount\n",
       "0     EMI starts at     44,588\n",
       "1     EMI starts at      8,776\n",
       "2     EMI starts at      8,054\n",
       "3     EMI starts at     29,725\n",
       "4     EMI starts at      3,653\n",
       "...             ...        ...\n",
       "9995  EMI starts at     32,798\n",
       "9996  EMI starts at     58,123\n",
       "9997  EMI starts at     29,725\n",
       "9998  EMI starts at     1.33 L\n",
       "9999  EMI starts at     89,676\n",
       "\n",
       "[10000 rows x 2 columns]"
      ]
     },
     "execution_count": 14,
     "metadata": {},
     "output_type": "execute_result"
    }
   ],
   "source": [
    "split_EMI = df[\"EMI\"].str.split('₹',n=1,expand=True).rename(columns={0:'None',1:'EMI Amount'})\n",
    "split_EMI"
   ]
  },
  {
   "cell_type": "code",
   "execution_count": 18,
   "id": "8ddd47bf",
   "metadata": {},
   "outputs": [
    {
     "data": {
      "text/html": [
       "<div>\n",
       "<style scoped>\n",
       "    .dataframe tbody tr th:only-of-type {\n",
       "        vertical-align: middle;\n",
       "    }\n",
       "\n",
       "    .dataframe tbody tr th {\n",
       "        vertical-align: top;\n",
       "    }\n",
       "\n",
       "    .dataframe thead th {\n",
       "        text-align: right;\n",
       "    }\n",
       "</style>\n",
       "<table border=\"1\" class=\"dataframe\">\n",
       "  <thead>\n",
       "    <tr style=\"text-align: right;\">\n",
       "      <th></th>\n",
       "      <th>Year</th>\n",
       "      <th>Kilometers</th>\n",
       "      <th>Fuel</th>\n",
       "      <th>Location</th>\n",
       "      <th>EMI</th>\n",
       "      <th>Price</th>\n",
       "      <th>Brand_Name</th>\n",
       "      <th>Car_Name</th>\n",
       "      <th>EMI Amount</th>\n",
       "      <th>None</th>\n",
       "    </tr>\n",
       "  </thead>\n",
       "  <tbody>\n",
       "    <tr>\n",
       "      <th>0</th>\n",
       "      <td>2015</td>\n",
       "      <td>76,345 km</td>\n",
       "      <td>Diesel</td>\n",
       "      <td>Gurgaon</td>\n",
       "      <td>EMI starts at₹44,588</td>\n",
       "      <td>26.85 Lakh</td>\n",
       "      <td>Mercedes-Benz</td>\n",
       "      <td>M-Class ML 350 CDI</td>\n",
       "      <td>44,588</td>\n",
       "      <td>EMI starts at</td>\n",
       "    </tr>\n",
       "    <tr>\n",
       "      <th>1</th>\n",
       "      <td>2019</td>\n",
       "      <td>38,386 km</td>\n",
       "      <td>Petrol</td>\n",
       "      <td>Gurgaon</td>\n",
       "      <td>EMI starts at₹8,776</td>\n",
       "      <td>5.29 Lakh</td>\n",
       "      <td>Maruti</td>\n",
       "      <td>Suzuki Ignis Delta 1.2 AMT</td>\n",
       "      <td>8,776</td>\n",
       "      <td>EMI starts at</td>\n",
       "    </tr>\n",
       "    <tr>\n",
       "      <th>2</th>\n",
       "      <td>2017</td>\n",
       "      <td>18,001 km</td>\n",
       "      <td>Petrol</td>\n",
       "      <td>Delhi</td>\n",
       "      <td>EMI starts at₹8,054</td>\n",
       "      <td>4.85 Lakh</td>\n",
       "      <td>Maruti</td>\n",
       "      <td>Suzuki Swift Lxi ABS (O)</td>\n",
       "      <td>8,054</td>\n",
       "      <td>EMI starts at</td>\n",
       "    </tr>\n",
       "    <tr>\n",
       "      <th>3</th>\n",
       "      <td>2021</td>\n",
       "      <td>5,000 km</td>\n",
       "      <td>Diesel</td>\n",
       "      <td>Delhi</td>\n",
       "      <td>EMI starts at₹29,725</td>\n",
       "      <td>17.9 Lakh</td>\n",
       "      <td>Mahindra</td>\n",
       "      <td>Thar LX 4-STR Convertible Diesel AT</td>\n",
       "      <td>29,725</td>\n",
       "      <td>EMI starts at</td>\n",
       "    </tr>\n",
       "    <tr>\n",
       "      <th>4</th>\n",
       "      <td>2012</td>\n",
       "      <td>57,718 km</td>\n",
       "      <td>Petrol</td>\n",
       "      <td>Noida</td>\n",
       "      <td>EMI starts at₹3,653</td>\n",
       "      <td>2.2 Lakh</td>\n",
       "      <td>Hyundai</td>\n",
       "      <td>Eon Era +</td>\n",
       "      <td>3,653</td>\n",
       "      <td>EMI starts at</td>\n",
       "    </tr>\n",
       "    <tr>\n",
       "      <th>...</th>\n",
       "      <td>...</td>\n",
       "      <td>...</td>\n",
       "      <td>...</td>\n",
       "      <td>...</td>\n",
       "      <td>...</td>\n",
       "      <td>...</td>\n",
       "      <td>...</td>\n",
       "      <td>...</td>\n",
       "      <td>...</td>\n",
       "      <td>...</td>\n",
       "    </tr>\n",
       "    <tr>\n",
       "      <th>9995</th>\n",
       "      <td>2022</td>\n",
       "      <td>3,000 km</td>\n",
       "      <td>Petrol</td>\n",
       "      <td>Gurgaon</td>\n",
       "      <td>EMI starts at₹32,798</td>\n",
       "      <td>7.3 Lakh</td>\n",
       "      <td>MINI</td>\n",
       "      <td>Cooper Countryman Cooper D</td>\n",
       "      <td>32,798</td>\n",
       "      <td>EMI starts at</td>\n",
       "    </tr>\n",
       "    <tr>\n",
       "      <th>9996</th>\n",
       "      <td>2022</td>\n",
       "      <td>82,000 km</td>\n",
       "      <td>Petrol</td>\n",
       "      <td>Gurgaon</td>\n",
       "      <td>EMI starts at₹58,123</td>\n",
       "      <td>3.35 Lakh</td>\n",
       "      <td>Audi</td>\n",
       "      <td>A6 Technology 45 TFSI</td>\n",
       "      <td>58,123</td>\n",
       "      <td>EMI starts at</td>\n",
       "    </tr>\n",
       "    <tr>\n",
       "      <th>9997</th>\n",
       "      <td>2019</td>\n",
       "      <td>16,500 km</td>\n",
       "      <td>Petrol</td>\n",
       "      <td>Gurgaon</td>\n",
       "      <td>EMI starts at₹29,725</td>\n",
       "      <td>5.35 Lakh</td>\n",
       "      <td>MG</td>\n",
       "      <td>Hector Sharp 2.0 Diesel Turbo MT</td>\n",
       "      <td>29,725</td>\n",
       "      <td>EMI starts at</td>\n",
       "    </tr>\n",
       "    <tr>\n",
       "      <th>9998</th>\n",
       "      <td>2017</td>\n",
       "      <td>950 km</td>\n",
       "      <td>Diesel</td>\n",
       "      <td>Delhi</td>\n",
       "      <td>EMI starts at₹1.33 L</td>\n",
       "      <td>3.1 Lakh</td>\n",
       "      <td>Jaguar</td>\n",
       "      <td>XE Prestige</td>\n",
       "      <td>1.33 L</td>\n",
       "      <td>EMI starts at</td>\n",
       "    </tr>\n",
       "    <tr>\n",
       "      <th>9999</th>\n",
       "      <td>2019</td>\n",
       "      <td>16,500 km</td>\n",
       "      <td>Petrol</td>\n",
       "      <td>Noida</td>\n",
       "      <td>EMI starts at₹89,676</td>\n",
       "      <td>4.25 Lakh</td>\n",
       "      <td>BMW</td>\n",
       "      <td>3 Series Gran Limousine 320Ld Luxury Line</td>\n",
       "      <td>89,676</td>\n",
       "      <td>EMI starts at</td>\n",
       "    </tr>\n",
       "  </tbody>\n",
       "</table>\n",
       "<p>10000 rows × 10 columns</p>\n",
       "</div>"
      ],
      "text/plain": [
       "      Year Kilometers    Fuel Location                   EMI       Price  \\\n",
       "0     2015  76,345 km  Diesel  Gurgaon  EMI starts at₹44,588  26.85 Lakh   \n",
       "1     2019  38,386 km  Petrol  Gurgaon   EMI starts at₹8,776   5.29 Lakh   \n",
       "2     2017  18,001 km  Petrol    Delhi   EMI starts at₹8,054   4.85 Lakh   \n",
       "3     2021   5,000 km  Diesel    Delhi  EMI starts at₹29,725   17.9 Lakh   \n",
       "4     2012  57,718 km  Petrol    Noida   EMI starts at₹3,653    2.2 Lakh   \n",
       "...    ...        ...     ...      ...                   ...         ...   \n",
       "9995  2022   3,000 km  Petrol  Gurgaon  EMI starts at₹32,798    7.3 Lakh   \n",
       "9996  2022  82,000 km  Petrol  Gurgaon  EMI starts at₹58,123   3.35 Lakh   \n",
       "9997  2019  16,500 km  Petrol  Gurgaon  EMI starts at₹29,725   5.35 Lakh   \n",
       "9998  2017     950 km  Diesel    Delhi  EMI starts at₹1.33 L    3.1 Lakh   \n",
       "9999  2019  16,500 km  Petrol    Noida  EMI starts at₹89,676   4.25 Lakh   \n",
       "\n",
       "         Brand_Name                                   Car_Name EMI Amount  \\\n",
       "0     Mercedes-Benz                         M-Class ML 350 CDI     44,588   \n",
       "1            Maruti                 Suzuki Ignis Delta 1.2 AMT      8,776   \n",
       "2            Maruti                   Suzuki Swift Lxi ABS (O)      8,054   \n",
       "3          Mahindra        Thar LX 4-STR Convertible Diesel AT     29,725   \n",
       "4           Hyundai                                  Eon Era +      3,653   \n",
       "...             ...                                        ...        ...   \n",
       "9995           MINI                 Cooper Countryman Cooper D     32,798   \n",
       "9996           Audi                      A6 Technology 45 TFSI     58,123   \n",
       "9997             MG           Hector Sharp 2.0 Diesel Turbo MT     29,725   \n",
       "9998         Jaguar                                XE Prestige     1.33 L   \n",
       "9999            BMW  3 Series Gran Limousine 320Ld Luxury Line     89,676   \n",
       "\n",
       "               None  \n",
       "0     EMI starts at  \n",
       "1     EMI starts at  \n",
       "2     EMI starts at  \n",
       "3     EMI starts at  \n",
       "4     EMI starts at  \n",
       "...             ...  \n",
       "9995  EMI starts at  \n",
       "9996  EMI starts at  \n",
       "9997  EMI starts at  \n",
       "9998  EMI starts at  \n",
       "9999  EMI starts at  \n",
       "\n",
       "[10000 rows x 10 columns]"
      ]
     },
     "execution_count": 18,
     "metadata": {},
     "output_type": "execute_result"
    }
   ],
   "source": [
    "df[[\"None\",\"EMI Amount\"]] = df[\"EMI\"].str.split('₹',n=1,expand=True)\n",
    "df"
   ]
  },
  {
   "cell_type": "markdown",
   "id": "44c44b63",
   "metadata": {},
   "source": [
    "Lets drop off 'None' Column"
   ]
  },
  {
   "cell_type": "code",
   "execution_count": 19,
   "id": "8f67ccf6",
   "metadata": {},
   "outputs": [],
   "source": [
    "df.drop('None',axis=1,inplace=True)"
   ]
  },
  {
   "cell_type": "code",
   "execution_count": 20,
   "id": "2d0d648f",
   "metadata": {},
   "outputs": [],
   "source": [
    "df.drop('EMI',axis=1,inplace=True)"
   ]
  },
  {
   "cell_type": "code",
   "execution_count": 21,
   "id": "a2a81c8a",
   "metadata": {},
   "outputs": [
    {
     "data": {
      "text/html": [
       "<div>\n",
       "<style scoped>\n",
       "    .dataframe tbody tr th:only-of-type {\n",
       "        vertical-align: middle;\n",
       "    }\n",
       "\n",
       "    .dataframe tbody tr th {\n",
       "        vertical-align: top;\n",
       "    }\n",
       "\n",
       "    .dataframe thead th {\n",
       "        text-align: right;\n",
       "    }\n",
       "</style>\n",
       "<table border=\"1\" class=\"dataframe\">\n",
       "  <thead>\n",
       "    <tr style=\"text-align: right;\">\n",
       "      <th></th>\n",
       "      <th>Year</th>\n",
       "      <th>Kilometers</th>\n",
       "      <th>Fuel</th>\n",
       "      <th>Location</th>\n",
       "      <th>Price</th>\n",
       "      <th>Brand_Name</th>\n",
       "      <th>Car_Name</th>\n",
       "      <th>EMI Amount</th>\n",
       "    </tr>\n",
       "  </thead>\n",
       "  <tbody>\n",
       "    <tr>\n",
       "      <th>0</th>\n",
       "      <td>2015</td>\n",
       "      <td>76,345 km</td>\n",
       "      <td>Diesel</td>\n",
       "      <td>Gurgaon</td>\n",
       "      <td>26.85 Lakh</td>\n",
       "      <td>Mercedes-Benz</td>\n",
       "      <td>M-Class ML 350 CDI</td>\n",
       "      <td>44,588</td>\n",
       "    </tr>\n",
       "    <tr>\n",
       "      <th>1</th>\n",
       "      <td>2019</td>\n",
       "      <td>38,386 km</td>\n",
       "      <td>Petrol</td>\n",
       "      <td>Gurgaon</td>\n",
       "      <td>5.29 Lakh</td>\n",
       "      <td>Maruti</td>\n",
       "      <td>Suzuki Ignis Delta 1.2 AMT</td>\n",
       "      <td>8,776</td>\n",
       "    </tr>\n",
       "    <tr>\n",
       "      <th>2</th>\n",
       "      <td>2017</td>\n",
       "      <td>18,001 km</td>\n",
       "      <td>Petrol</td>\n",
       "      <td>Delhi</td>\n",
       "      <td>4.85 Lakh</td>\n",
       "      <td>Maruti</td>\n",
       "      <td>Suzuki Swift Lxi ABS (O)</td>\n",
       "      <td>8,054</td>\n",
       "    </tr>\n",
       "    <tr>\n",
       "      <th>3</th>\n",
       "      <td>2021</td>\n",
       "      <td>5,000 km</td>\n",
       "      <td>Diesel</td>\n",
       "      <td>Delhi</td>\n",
       "      <td>17.9 Lakh</td>\n",
       "      <td>Mahindra</td>\n",
       "      <td>Thar LX 4-STR Convertible Diesel AT</td>\n",
       "      <td>29,725</td>\n",
       "    </tr>\n",
       "    <tr>\n",
       "      <th>4</th>\n",
       "      <td>2012</td>\n",
       "      <td>57,718 km</td>\n",
       "      <td>Petrol</td>\n",
       "      <td>Noida</td>\n",
       "      <td>2.2 Lakh</td>\n",
       "      <td>Hyundai</td>\n",
       "      <td>Eon Era +</td>\n",
       "      <td>3,653</td>\n",
       "    </tr>\n",
       "    <tr>\n",
       "      <th>...</th>\n",
       "      <td>...</td>\n",
       "      <td>...</td>\n",
       "      <td>...</td>\n",
       "      <td>...</td>\n",
       "      <td>...</td>\n",
       "      <td>...</td>\n",
       "      <td>...</td>\n",
       "      <td>...</td>\n",
       "    </tr>\n",
       "    <tr>\n",
       "      <th>9995</th>\n",
       "      <td>2022</td>\n",
       "      <td>3,000 km</td>\n",
       "      <td>Petrol</td>\n",
       "      <td>Gurgaon</td>\n",
       "      <td>7.3 Lakh</td>\n",
       "      <td>MINI</td>\n",
       "      <td>Cooper Countryman Cooper D</td>\n",
       "      <td>32,798</td>\n",
       "    </tr>\n",
       "    <tr>\n",
       "      <th>9996</th>\n",
       "      <td>2022</td>\n",
       "      <td>82,000 km</td>\n",
       "      <td>Petrol</td>\n",
       "      <td>Gurgaon</td>\n",
       "      <td>3.35 Lakh</td>\n",
       "      <td>Audi</td>\n",
       "      <td>A6 Technology 45 TFSI</td>\n",
       "      <td>58,123</td>\n",
       "    </tr>\n",
       "    <tr>\n",
       "      <th>9997</th>\n",
       "      <td>2019</td>\n",
       "      <td>16,500 km</td>\n",
       "      <td>Petrol</td>\n",
       "      <td>Gurgaon</td>\n",
       "      <td>5.35 Lakh</td>\n",
       "      <td>MG</td>\n",
       "      <td>Hector Sharp 2.0 Diesel Turbo MT</td>\n",
       "      <td>29,725</td>\n",
       "    </tr>\n",
       "    <tr>\n",
       "      <th>9998</th>\n",
       "      <td>2017</td>\n",
       "      <td>950 km</td>\n",
       "      <td>Diesel</td>\n",
       "      <td>Delhi</td>\n",
       "      <td>3.1 Lakh</td>\n",
       "      <td>Jaguar</td>\n",
       "      <td>XE Prestige</td>\n",
       "      <td>1.33 L</td>\n",
       "    </tr>\n",
       "    <tr>\n",
       "      <th>9999</th>\n",
       "      <td>2019</td>\n",
       "      <td>16,500 km</td>\n",
       "      <td>Petrol</td>\n",
       "      <td>Noida</td>\n",
       "      <td>4.25 Lakh</td>\n",
       "      <td>BMW</td>\n",
       "      <td>3 Series Gran Limousine 320Ld Luxury Line</td>\n",
       "      <td>89,676</td>\n",
       "    </tr>\n",
       "  </tbody>\n",
       "</table>\n",
       "<p>10000 rows × 8 columns</p>\n",
       "</div>"
      ],
      "text/plain": [
       "      Year Kilometers    Fuel Location       Price     Brand_Name  \\\n",
       "0     2015  76,345 km  Diesel  Gurgaon  26.85 Lakh  Mercedes-Benz   \n",
       "1     2019  38,386 km  Petrol  Gurgaon   5.29 Lakh         Maruti   \n",
       "2     2017  18,001 km  Petrol    Delhi   4.85 Lakh         Maruti   \n",
       "3     2021   5,000 km  Diesel    Delhi   17.9 Lakh       Mahindra   \n",
       "4     2012  57,718 km  Petrol    Noida    2.2 Lakh        Hyundai   \n",
       "...    ...        ...     ...      ...         ...            ...   \n",
       "9995  2022   3,000 km  Petrol  Gurgaon    7.3 Lakh           MINI   \n",
       "9996  2022  82,000 km  Petrol  Gurgaon   3.35 Lakh           Audi   \n",
       "9997  2019  16,500 km  Petrol  Gurgaon   5.35 Lakh             MG   \n",
       "9998  2017     950 km  Diesel    Delhi    3.1 Lakh         Jaguar   \n",
       "9999  2019  16,500 km  Petrol    Noida   4.25 Lakh            BMW   \n",
       "\n",
       "                                       Car_Name EMI Amount  \n",
       "0                            M-Class ML 350 CDI     44,588  \n",
       "1                    Suzuki Ignis Delta 1.2 AMT      8,776  \n",
       "2                      Suzuki Swift Lxi ABS (O)      8,054  \n",
       "3           Thar LX 4-STR Convertible Diesel AT     29,725  \n",
       "4                                     Eon Era +      3,653  \n",
       "...                                         ...        ...  \n",
       "9995                 Cooper Countryman Cooper D     32,798  \n",
       "9996                      A6 Technology 45 TFSI     58,123  \n",
       "9997           Hector Sharp 2.0 Diesel Turbo MT     29,725  \n",
       "9998                                XE Prestige     1.33 L  \n",
       "9999  3 Series Gran Limousine 320Ld Luxury Line     89,676  \n",
       "\n",
       "[10000 rows x 8 columns]"
      ]
     },
     "execution_count": 21,
     "metadata": {},
     "output_type": "execute_result"
    }
   ],
   "source": [
    "df"
   ]
  },
  {
   "cell_type": "markdown",
   "id": "b655bb8e",
   "metadata": {},
   "source": [
    "# Features"
   ]
  },
  {
   "cell_type": "markdown",
   "id": "ddd5c372",
   "metadata": {},
   "source": [
    "\n",
    "Year: Manufacture year of car\n",
    "\n",
    "Kilometers : Kilometers run my car\n",
    "\n",
    "Fuel : Fuel used by car\n",
    "\n",
    "Location : Location of the car\n",
    "\n",
    "Price : Selling price of the car\n",
    "\n",
    "Brand_Name : Brand Name of car\n",
    "\n",
    "Car_Name : Name of the Car\n",
    "\n",
    "EMI Amount : EMI of the car"
   ]
  },
  {
   "cell_type": "code",
   "execution_count": 22,
   "id": "bfb92c38",
   "metadata": {},
   "outputs": [
    {
     "data": {
      "text/plain": [
       "array([2015, 2019, 2017, 2021, 2012, 2018, 2020, 2013, 2014, 2009, 2011,\n",
       "       2008, 2022, 2016, 2007, 2010], dtype=int64)"
      ]
     },
     "execution_count": 22,
     "metadata": {},
     "output_type": "execute_result"
    }
   ],
   "source": [
    "df['Year'].unique()"
   ]
  },
  {
   "cell_type": "code",
   "execution_count": 23,
   "id": "f518f7da",
   "metadata": {},
   "outputs": [
    {
     "data": {
      "text/plain": [
       "array(['76,345 km', '38,386 km', '18,001 km', '5,000 km', '57,718 km',\n",
       "       '89,000 km', '13,200 km', '20,000 km', '90,826 km', '49,769 km',\n",
       "       '45,876 km', '48,502 km', '30,632 km', '55,314 km', '21,469 km',\n",
       "       '56,000 km', '55,200 km', '86,000 km', '52,360 km', '39,584 km',\n",
       "       '74,600 km', '49,700 km', '82,200 km', '64,300 km', '78,304 km',\n",
       "       '55,000 km', '50,047 km', '68,000 km', '41,700 km', '62,224 km',\n",
       "       '65,000 km', '63,000 km', '40,000 km', '76,000 km', '32,467 km',\n",
       "       '93,000 km', '10,000 km', '15,000 km', '14,500 km', '43,500 km',\n",
       "       '25,500 km', '9,800 km', '18,500 km', '3,000 km', '82,000 km',\n",
       "       '16,500 km', '950 km', '32,000 km', '85,000 km', '35,000 km',\n",
       "       '70,000 km', '19,000 km', '47,000 km', '8,800 km', '38,000 km',\n",
       "       '1,500 km', '1,10,000 km', '45,000 km', '11,000 km', '46,000 km',\n",
       "       '58,000 km', '3,800 km', '6,200 km', '29,000 km', '59,000 km',\n",
       "       '17,000 km', '30,000 km', '33,000 km', '13,000 km', '43,000 km',\n",
       "       '18,000 km', '14,000 km', '12,000 km', '80,000 km', '26,000 km',\n",
       "       '6,000 km', '52,000 km', '28,000 km', '9,000 km', '650 km',\n",
       "       '23,500 km', '88,000 km', '25,000 km', '19,500 km', '23,000 km',\n",
       "       '5,800 km', '46,500 km', '77,000 km', '66,000 km', '37,500 km',\n",
       "       '8,900 km', '31,000 km', '7,900 km', '1,20,000 km', '49,000 km',\n",
       "       '87,000 km', '53,000 km', '1,30,000 km', '22,000 km', '47,500 km',\n",
       "       '97,000 km', '24,000 km', '69,700 km', '52,500 km', '5,400 km',\n",
       "       '34,000 km', '61,000 km', '36,000 km', '29,600 km', '42,000 km',\n",
       "       '75,000 km', '7,000 km', '21,000 km', '59,500 km', '45,500 km',\n",
       "       '1,33,000 km', '1,959 km', '68,800 km', '71,000 km', '2,000 km',\n",
       "       '60,186 km', '65,337 km', '17,500 km', '1,17,000 km', '46,251 km',\n",
       "       '6,800 km', '38,144 km', '60,000 km', '51,000 km', '32,500 km',\n",
       "       '8,000 km', '37,000 km', '46,237 km', '58,670 km', '39,000 km'],\n",
       "      dtype=object)"
      ]
     },
     "execution_count": 23,
     "metadata": {},
     "output_type": "execute_result"
    }
   ],
   "source": [
    "df['Kilometers'].unique()"
   ]
  },
  {
   "cell_type": "markdown",
   "id": "7ade449d",
   "metadata": {},
   "source": [
    "Although every columns has unique values but driven kilometer is an important feature for our machine to understand"
   ]
  },
  {
   "cell_type": "code",
   "execution_count": 24,
   "id": "7c6130f6",
   "metadata": {},
   "outputs": [
    {
     "data": {
      "text/plain": [
       "array(['Diesel', 'Petrol', 'CNG'], dtype=object)"
      ]
     },
     "execution_count": 24,
     "metadata": {},
     "output_type": "execute_result"
    }
   ],
   "source": [
    "df['Fuel'].unique()"
   ]
  },
  {
   "cell_type": "markdown",
   "id": "44241ad6",
   "metadata": {},
   "source": [
    "\"Fuel\" Column looks fine"
   ]
  },
  {
   "cell_type": "code",
   "execution_count": 25,
   "id": "cc7b4e64",
   "metadata": {},
   "outputs": [
    {
     "data": {
      "text/plain": [
       "array(['Gurgaon', 'Delhi', 'Noida', 'Faridabad', 'Ahmedabad'],\n",
       "      dtype=object)"
      ]
     },
     "execution_count": 25,
     "metadata": {},
     "output_type": "execute_result"
    }
   ],
   "source": [
    "df['Location'].unique()"
   ]
  },
  {
   "cell_type": "code",
   "execution_count": 26,
   "id": "93d2acdc",
   "metadata": {},
   "outputs": [
    {
     "data": {
      "text/plain": [
       "array(['26.85 Lakh', '5.29 Lakh', '4.85 Lakh', '17.9 Lakh', '2.2 Lakh',\n",
       "       '30 Lakh', '10.25 Lakh', '12.5 Lakh', '4.9 Lakh', '5.95 Lakh',\n",
       "       '5.2 Lakh', '4 Lakh', '2.95 Lakh', '3.95 Lakh', '2.55 Lakh',\n",
       "       '4.5 Lakh', '2.9 Lakh', '3.4 Lakh', '2.45 Lakh', '4.75 Lakh',\n",
       "       '6.15 Lakh', '7.3 Lakh', '3.35 Lakh', '5.35 Lakh', '3.1 Lakh',\n",
       "       '4.25 Lakh', '2.6 Lakh', '2.7 Lakh', '39 Lakh', '1.95 Lakh',\n",
       "       '27 Lakh', '20 Lakh', '17.4 Lakh', '25 Lakh', '2.51 Lakh',\n",
       "       '3.35 Crore', '47.75 Lakh', '15.99 Lakh', '49 Lakh', '1.25 Crore',\n",
       "       '1.68 Crore', '39.5 Lakh', '48.5 Lakh', '1.49 Crore', '10.75 Lakh',\n",
       "       '78 Lakh', '1.38 Crore', '1.61 Crore', '32.5 Lakh', '21.5 Lakh',\n",
       "       '24.5 Lakh', '23.5 Lakh', '39.9 Lakh', '23.45 Lakh', '61.9 Lakh',\n",
       "       '10.7 Lakh', '59.5 Lakh', '9.85 Lakh', '40.95 Lakh', '15.75 Lakh',\n",
       "       '35 Lakh', '42 Lakh', '64.5 Lakh', '48 Lakh', '26.75 Lakh',\n",
       "       '77.8 Lakh', '93 Lakh', '32 Lakh', '69 Lakh', '53.5 Lakh',\n",
       "       '1.35 Crore', '82.9 Lakh', '54.5 Lakh', '56.5 Lakh', '44.75 Lakh',\n",
       "       '43 Lakh', '52 Lakh', '65 Lakh', '1.65 Crore', '63 Lakh',\n",
       "       '74.75 Lakh', '83 Lakh', '44 Lakh', '46.5 Lakh', '68.5 Lakh',\n",
       "       '19.5 Lakh', '49.9 Lakh', '21.9 Lakh', '1.52 Crore', '59.9 Lakh',\n",
       "       '40.5 Lakh', '40 Lakh', '54.25 Lakh', '39.4 Lakh', '33.4 Lakh',\n",
       "       '65.75 Lakh', '79.9 Lakh', '74.5 Lakh', '71 Lakh', '58.5 Lakh',\n",
       "       '36.35 Lakh', '1.4 Crore', '29.99 Lakh', '59 Lakh', '1.15 Crore',\n",
       "       '6.9 Lakh', '22.75 Lakh', '75.5 Lakh', '79 Lakh', '68 Lakh',\n",
       "       '97 Lakh', '1.13 Crore', '17.5 Lakh', '17.75 Lakh', '12.9 Lakh',\n",
       "       '7.9 Lakh', '23 Lakh', '19.75 Lakh', '80 Lakh', '54 Lakh',\n",
       "       '78.5 Lakh', '24.75 Lakh', '9.75 Lakh', '5.25 Lakh', '38.9 Lakh',\n",
       "       '10.5 Lakh', '5 Lakh', '35.8 Lakh', '31 Lakh', '41 Lakh',\n",
       "       '1.18 Crore', '13 Lakh', '15.5 Lakh', '12.95 Lakh', '29 Lakh',\n",
       "       '28.5 Lakh', '6.7 Lakh', '6.75 Lakh', '38.75 Lakh', '18.5 Lakh',\n",
       "       '54.75 Lakh', '62.5 Lakh', '12.37 Lakh', '50.37 Lakh', '47.5 Lakh',\n",
       "       '47.88 Lakh', '1.86 Crore', '44.37 Lakh', '6.95 Lakh',\n",
       "       '14.95 Lakh', '42.9 Lakh', '9 Lakh', '56.25 Lakh', '16.5 Lakh',\n",
       "       '15.13 Lakh', '19.9 Lakh', '18.51 Lakh', '22.4 Lakh', '59.25 Lakh',\n",
       "       '24.26 Lakh', '78.57 Lakh', '11.56 Lakh', '72 Lakh', '23.06 Lakh',\n",
       "       '20.76 Lakh', '14.56 Lakh', '25.38 Lakh', '68.88 Lakh',\n",
       "       '38.37 Lakh', '27.5 Lakh', '13.88 Lakh', '1.59 Crore', '96 Lakh',\n",
       "       '93.57 Lakh', '12.87 Lakh', '60 Lakh', '7.37 Lakh', '44.9 Lakh',\n",
       "       '14.75 Lakh', '38.5 Lakh', '20.5 Lakh', '17 Lakh', '43.07 Lakh',\n",
       "       '4.62 Lakh', '33 Lakh', '13.37 Lakh', '15.37 Lakh', '28 Lakh',\n",
       "       '55 Lakh', '19.56 Lakh', '28.88 Lakh', '22.88 Lakh'], dtype=object)"
      ]
     },
     "execution_count": 26,
     "metadata": {},
     "output_type": "execute_result"
    }
   ],
   "source": [
    "df['Price'].unique()"
   ]
  },
  {
   "cell_type": "markdown",
   "id": "e83c2283",
   "metadata": {},
   "source": [
    "\"Price\" columns has unique vlues which is important for us"
   ]
  },
  {
   "cell_type": "code",
   "execution_count": 27,
   "id": "b43e67ce",
   "metadata": {},
   "outputs": [
    {
     "data": {
      "text/plain": [
       "array(['Mercedes-Benz', 'Maruti', 'Mahindra', 'Hyundai', 'Volvo', 'Jeep',\n",
       "       'Volkswagen', 'Honda', 'Toyota', 'Ford', 'BMW', 'Audi', 'MG',\n",
       "       'Land', 'MINI', 'Bentley', 'Porsche', 'Jaguar', 'Kia', 'Skoda',\n",
       "       'Mitsubishi'], dtype=object)"
      ]
     },
     "execution_count": 27,
     "metadata": {},
     "output_type": "execute_result"
    }
   ],
   "source": [
    "df['Brand_Name'].unique()"
   ]
  },
  {
   "cell_type": "code",
   "execution_count": 28,
   "id": "e6a400e8",
   "metadata": {},
   "outputs": [
    {
     "data": {
      "text/plain": [
       "array(['M-Class ML 350 CDI', 'Suzuki Ignis Delta 1.2 AMT',\n",
       "       'Suzuki Swift Lxi ABS (O)', 'Thar LX 4-STR Convertible Diesel AT',\n",
       "       'Eon Era +', 'S90 D4 Inscription',\n",
       "       'Verna Fluidic 1.6 VTVT SX Opt AT', 'Compass Sport 1.4 Petrol',\n",
       "       'Polo Highline1.2L (P)', 'City V',\n",
       "       'Elite i20 Magna 1.2 [2016-2017]', 'Suzuki Wagon R 1.0 VXI',\n",
       "       'Brio S MT', 'Grand i10 Sportz (O) 1.2 Kappa VTVT [2017-2018]',\n",
       "       'Suzuki Alto 800 Lxi CNG', 'Amaze 1.2 S i-VTEC',\n",
       "       'Grand i10 Magna 1.2 Kappa VTVT [2013-2016]', 'Camry W1 MT',\n",
       "       'Suzuki Eeco 5 STR WITH A/C+HTR CNG [2017-2019]', 'i20 Magna 1.2',\n",
       "       'TUV300 T8 mHAWK100 Dual Tone', 'Glanza G',\n",
       "       'Suzuki Swift ZXi Plus [2018-2019]', 'Suzuki Swift DZire LDI',\n",
       "       'Suzuki Swift Dzire LXI (O)', 'Suzuki Alto 800 Lxi',\n",
       "       'EcoSport Titanium 1.5L Ti-VCT AT', 'i10 Sportz 1.2 Kappa2',\n",
       "       'Verna Fluidic 1.6 VTVT SX', 'C-Class C 220 CDI Avantgarde',\n",
       "       'Suzuki Alto K10 VXi', 'X1 sDrive20d M Sport',\n",
       "       'A8 L 4.2 FSI quattro', 'Endeavour Titanium 2.2 4x2 AT',\n",
       "       'Suzuki Alto K10 LXi', 'Maybach GLS 600 4MATIC',\n",
       "       'S-Class S 350 CDI', 'Hector Sharp 1.5 DCT Petrol [2019-2020]',\n",
       "       'E-Class Cabriolet E 400 Cabriolet',\n",
       "       'Rover Range Rover Sport HSE 2.0 Petrol', 'S-Class Maybach S 600',\n",
       "       'Clubman Cooper S', 'Continental Flying Spur Sedan',\n",
       "       'Cayenne Coupe Base', 'XUV500 W10 1.99',\n",
       "       'E-Class E 220d Exclusive [2019-2019]', 'GLS 400d 4MATIC',\n",
       "       'S-Coupe S 63 AMG [2015-2018]', 'CLA 200 CDI Sport',\n",
       "       '3 Series GT 320d Luxury Line [2014-2016]', 'Panamera 3.0 Diesel',\n",
       "       'E-Class E 220 d Avantgarde',\n",
       "       'Endeavour Titanium 2.2 4x2 AT [2016-2018]',\n",
       "       'Endeavour Trend 2.2 4x2 AT', 'Rover Discovery Sport HSE Luxury',\n",
       "       'Camry 2.5L AT', 'C-Class Cabriolet C 300',\n",
       "       'Venue SX (O) 1.0 Turbo iMT', 'GLS 350 d',\n",
       "       'Q3 35 TDI Premium + Sunroof', 'Z4 sDrive 35i',\n",
       "       'Verna SX (O)1.5 VTVT', 'Q7 45 TDI Technology Pack',\n",
       "       'C-Class C 200 Progressive [2018-2020]',\n",
       "       'S5 Sportback 3.0 TFSI Quattro', 'Rover Discovery Sport HSE',\n",
       "       'CLA 200 Petrol Sport (CBU)', 'Macan Base [2019-2020]',\n",
       "       'CLA 200 Urban Sport', 'Mustang GT Fastback 5.0L v8',\n",
       "       'XC90 Momentum Luxury [2015-2020]', 'GLS 450 4MATIC',\n",
       "       '718 Cayman [2017-2020]',\n",
       "       'X5 xDrive30d Pure Experience (5 Seater)',\n",
       "       'GLC 200 Progressive [2019-2021]', 'E-Class E 200',\n",
       "       'X1 sDrive20i xLine', 'F-Pace Prestige', 'X6 xDrive40d M Sport',\n",
       "       'Rover Range Rover 3.0 V6 Petrol Vogue', 'X5 xDrive30d xLine',\n",
       "       'X4 xDrive30d M Sport X [2019-2020]',\n",
       "       'Hector Sharp 2.0 Diesel [2019-2020]', 'C-Class C200 Progressive',\n",
       "       'A6 35 TDI Matrix', 'G-Class G 63 AMG', 'F-Pace Prestige Petrol',\n",
       "       'Gloster Savvy 6 STR 2.0 Twin Turbo 4WD',\n",
       "       'V90 Cross Country D5 Inscription [2017-2020]',\n",
       "       'C-Class C 220d Progressive [2018-2019]',\n",
       "       'X1 sDrive20d Expedition', 'GLE 300d 4MATIC LWB',\n",
       "       'Rover Discovery 3.0 SE Petrol', 'GLC 220d 4MATIC Progressive',\n",
       "       'Endeavour Titanium 3.2 4x4 AT',\n",
       "       '5 Series 520d Luxury Line [2017-2019]', 'Macan R4',\n",
       "       'XJ L 3.0 V6 Portfolio', 'V-Class Exclusive LWB [2019-2020]',\n",
       "       'Suzuki Ciaz Delta 1.4 AT', 'GLE Coupe 43 4MATIC [2017-2019]',\n",
       "       '3 Series Gran Limousine 330Li M Sport First Edition',\n",
       "       'Seltos GTX AT 1.4', '718 Boxster', 'Continental GT Coupe',\n",
       "       'M-Class ML 250 CDI', 'Superb L&K TSI AT',\n",
       "       'Seltos HTK Plus AT 1.5 Diesel [2020-2021]', 'Pajero Sport 2.5 AT',\n",
       "       'XUV500 W6 2013', 'Passat Highline', 'Cayenne Diesel',\n",
       "       '7 Series 740Li DPE Signature', 'GLA 200 Sport', 'XF 2.2 Diesel',\n",
       "       'Land Cruiser HDJ 80', 'Cooper Convertible 1.6',\n",
       "       'Thar LX 4-STR Hard Top Petrol AT',\n",
       "       'Creta 1.6 SX Plus Petrol Special Edition', 'Cross Polo 1.5 TDI',\n",
       "       'Rover Discovery Sport HSE Luxury 7-Seater',\n",
       "       'City V CVT Petrol [2017-2019]', 'Verna SX Plus 1.6 CRDi AT',\n",
       "       'Creta E Plus 1.4 CRDI', 'Jazz S MT [2015-2016]',\n",
       "       'A6 2.0 TFSi Technology Pack', 'XUV500 W7 [2018-2020]',\n",
       "       'A6 2.0 TDI Premium', '6 Series 650i Coupe', 'Fortuner 3.0 4x4 MT',\n",
       "       'C-Class C 200 Avantgarde', 'GTI 1.8 TSI',\n",
       "       'Suzuki Ciaz Delta 1.4 MT', 'Fortuner 2.8 4x2 AT [2016-2020]',\n",
       "       'GLC 200 Progressive', 'Q5 3.0 TDI quattro Premium Plus',\n",
       "       'E-Class E 220d Expression [2019-2019]',\n",
       "       'Rover Range Rover 4.4 SDV8 Autobiography LWB',\n",
       "       'C-Class C 220 CDI Style', 'i20 Sportz 1.4 CRDI 6 Speed (O)',\n",
       "       'Suzuki Ciaz ZXi AT', 'A6 2.0 TDI Technology Pack', 'GLE 250 d',\n",
       "       'Corolla Altis 1.8 G AT', 'GLC 300 Progressive',\n",
       "       'Civic VX CVT Petrol [2019-2020]', 'Q3 35 TDI Premium',\n",
       "       'A6 Technology 45 TFSI', 'Rover Range Rover Evoque Dynamic SD4',\n",
       "       'Grand i10 Magna 1.2 Kappa VTVT [2017-2020]',\n",
       "       'A4 Technology 40 TFSI [2021-2022]',\n",
       "       '6 Series GT 630d M Sport [2018-2019]', 'Cayenne Turbo',\n",
       "       'A8 L 3.0 TDI quattro', 'Q7 3.0 TDI quattro Premium Plus',\n",
       "       'S-Class 350 L', 'SLK-Class SLK 200 K', 'A5 Cabriolet 2.0 TDI',\n",
       "       'GLC 220 d Progressive', '5 Series 520d Sedan',\n",
       "       'Cayenne Platinum Edition', 'Q7 Technology 55 TFSI',\n",
       "       'Rover Range Rover Sport SDV6 HSE', 'X3 xDrive20d',\n",
       "       'E-Class 280 Elegance', 'Cooper Countryman Cooper D',\n",
       "       'Fortuner 4X2 AT 2.8 Legender', 'Rover Discovery 3.0 HSE Petrol',\n",
       "       'Hector Plus Sharp 1.5 DCT Petrol',\n",
       "       'Creta SX 1.5 Petrol CVT [2020-2022]',\n",
       "       'C-Class 220 CDI Elegance AT', 'XF 3.0 V6 Premium Luxury',\n",
       "       'A4 35 TDI Premium Plus', 'Hector Sharp 2.0 Diesel Turbo MT',\n",
       "       'XE Prestige', '3 Series Gran Limousine 320Ld Luxury Line',\n",
       "       '7 Series 730Ld Sedan', 'Q5 2.0 TDI quattro Premium Plus',\n",
       "       'E-Class E250 CDI Avantgarde'], dtype=object)"
      ]
     },
     "execution_count": 28,
     "metadata": {},
     "output_type": "execute_result"
    }
   ],
   "source": [
    "df['Car_Name'].unique()"
   ]
  },
  {
   "cell_type": "code",
   "execution_count": 29,
   "id": "c3bf2f4b",
   "metadata": {},
   "outputs": [
    {
     "data": {
      "text/plain": [
       "array(['44,588', '8,776', '8,054', '29,725', '3,653', '17,021', '8,137',\n",
       "       '9,880', '8,635', '6,642', '6,559', '4,234', '7,473', '4,815',\n",
       "       '5,646', '7,888', '4,898', '10,213', '12,122', '5,563', '8,884',\n",
       "       '5,148', '7,057', '4,317', '4,483', '64,766', '3,238', '44,838',\n",
       "       '28,895', '41,516', '4,168', '5.56 L', '79,296', '26,554',\n",
       "       '81,372', '2.08 L', '65,596', '2.47 L', '17,852', '1.3 L',\n",
       "       '2.29 L', '53,971', '35,704', '49,820', '40,686', '39,025',\n",
       "       '66,260', '38,942', '1.03 L', '17,769', '98,809', '16,357',\n",
       "       '68,004', '26,155', '58,123', '69,748', '1.07 L', '79,712',\n",
       "       '44,422', '1.29 L', '1.54 L', '53,141', '1.15 L', '88,845',\n",
       "       '2.24 L', '1.38 L', '90,506', '93,827', '74,314', '71,408',\n",
       "       '86,354', '1.08 L', '2.74 L', '1.05 L', '1.24 L', '73,069',\n",
       "       '77,221', '1.14 L', '32,383', '82,867', '36,368', '2.52 L',\n",
       "       '99,474', '67,257', '66,426', '90,091', '65,430', '55,466',\n",
       "       '1.09 L', '1.33 L', '1.18 L', '97,149', '60,365', '2.32 L',\n",
       "       '49,803', '97,979', '1.91 L', '11,458', '37,780', '1.25 L',\n",
       "       '1.31 L', '1.13 L', '1.61 L', '1.88 L', '29,061', '29,476',\n",
       "       '21,422', '13,119', '38,195', '32,798', '89,676', '41,101',\n",
       "       '16,191', '8,718', '64,600', '17,437', '8,303', '59,451', '51,480',\n",
       "       '68,087', '1.96 L', '21,588', '21,505', '48,159', '47,329',\n",
       "       '11,126', '11,209', '64,350', '30,722', '90,921', '1.04 L',\n",
       "       '83,647', '78,881', '79,512', '3.08 L', '73,683', '11,541',\n",
       "       '24,826', '71,242', '14,946', '93,412', '27,401', '25,125',\n",
       "       '33,047', '30,738', '37,198', '98,394', '40,287', '1.2 L',\n",
       "       '38,290', '34,475', '63,719', '45,668', '21,372', '99,640',\n",
       "       '74,564', '24,494', '80,542', '63,935', '34,043', '28,231',\n",
       "       '71,524', '22,203', '25,524', '47,960', '37,996'], dtype=object)"
      ]
     },
     "execution_count": 29,
     "metadata": {},
     "output_type": "execute_result"
    }
   ],
   "source": [
    "df['EMI Amount'].unique()"
   ]
  },
  {
   "cell_type": "code",
   "execution_count": 30,
   "id": "28fdbc89",
   "metadata": {},
   "outputs": [
    {
     "data": {
      "text/html": [
       "<div>\n",
       "<style scoped>\n",
       "    .dataframe tbody tr th:only-of-type {\n",
       "        vertical-align: middle;\n",
       "    }\n",
       "\n",
       "    .dataframe tbody tr th {\n",
       "        vertical-align: top;\n",
       "    }\n",
       "\n",
       "    .dataframe thead th {\n",
       "        text-align: right;\n",
       "    }\n",
       "</style>\n",
       "<table border=\"1\" class=\"dataframe\">\n",
       "  <thead>\n",
       "    <tr style=\"text-align: right;\">\n",
       "      <th></th>\n",
       "      <th>Year</th>\n",
       "      <th>Kilometers</th>\n",
       "      <th>Fuel</th>\n",
       "      <th>Location</th>\n",
       "      <th>Price</th>\n",
       "      <th>Brand_Name</th>\n",
       "      <th>Car_Name</th>\n",
       "      <th>EMI Amount</th>\n",
       "    </tr>\n",
       "  </thead>\n",
       "  <tbody>\n",
       "    <tr>\n",
       "      <th>0</th>\n",
       "      <td>2015</td>\n",
       "      <td>76,345 km</td>\n",
       "      <td>Diesel</td>\n",
       "      <td>Gurgaon</td>\n",
       "      <td>26.85 Lakh</td>\n",
       "      <td>Mercedes-Benz</td>\n",
       "      <td>M-Class ML 350 CDI</td>\n",
       "      <td>44,588</td>\n",
       "    </tr>\n",
       "    <tr>\n",
       "      <th>1</th>\n",
       "      <td>2019</td>\n",
       "      <td>38,386 km</td>\n",
       "      <td>Petrol</td>\n",
       "      <td>Gurgaon</td>\n",
       "      <td>5.29 Lakh</td>\n",
       "      <td>Maruti</td>\n",
       "      <td>Suzuki Ignis Delta 1.2 AMT</td>\n",
       "      <td>8,776</td>\n",
       "    </tr>\n",
       "    <tr>\n",
       "      <th>2</th>\n",
       "      <td>2017</td>\n",
       "      <td>18,001 km</td>\n",
       "      <td>Petrol</td>\n",
       "      <td>Delhi</td>\n",
       "      <td>4.85 Lakh</td>\n",
       "      <td>Maruti</td>\n",
       "      <td>Suzuki Swift Lxi ABS (O)</td>\n",
       "      <td>8,054</td>\n",
       "    </tr>\n",
       "    <tr>\n",
       "      <th>3</th>\n",
       "      <td>2021</td>\n",
       "      <td>5,000 km</td>\n",
       "      <td>Diesel</td>\n",
       "      <td>Delhi</td>\n",
       "      <td>17.9 Lakh</td>\n",
       "      <td>Mahindra</td>\n",
       "      <td>Thar LX 4-STR Convertible Diesel AT</td>\n",
       "      <td>29,725</td>\n",
       "    </tr>\n",
       "    <tr>\n",
       "      <th>4</th>\n",
       "      <td>2012</td>\n",
       "      <td>57,718 km</td>\n",
       "      <td>Petrol</td>\n",
       "      <td>Noida</td>\n",
       "      <td>2.2 Lakh</td>\n",
       "      <td>Hyundai</td>\n",
       "      <td>Eon Era +</td>\n",
       "      <td>3,653</td>\n",
       "    </tr>\n",
       "    <tr>\n",
       "      <th>...</th>\n",
       "      <td>...</td>\n",
       "      <td>...</td>\n",
       "      <td>...</td>\n",
       "      <td>...</td>\n",
       "      <td>...</td>\n",
       "      <td>...</td>\n",
       "      <td>...</td>\n",
       "      <td>...</td>\n",
       "    </tr>\n",
       "    <tr>\n",
       "      <th>9995</th>\n",
       "      <td>2022</td>\n",
       "      <td>3,000 km</td>\n",
       "      <td>Petrol</td>\n",
       "      <td>Gurgaon</td>\n",
       "      <td>7.3 Lakh</td>\n",
       "      <td>MINI</td>\n",
       "      <td>Cooper Countryman Cooper D</td>\n",
       "      <td>32,798</td>\n",
       "    </tr>\n",
       "    <tr>\n",
       "      <th>9996</th>\n",
       "      <td>2022</td>\n",
       "      <td>82,000 km</td>\n",
       "      <td>Petrol</td>\n",
       "      <td>Gurgaon</td>\n",
       "      <td>3.35 Lakh</td>\n",
       "      <td>Audi</td>\n",
       "      <td>A6 Technology 45 TFSI</td>\n",
       "      <td>58,123</td>\n",
       "    </tr>\n",
       "    <tr>\n",
       "      <th>9997</th>\n",
       "      <td>2019</td>\n",
       "      <td>16,500 km</td>\n",
       "      <td>Petrol</td>\n",
       "      <td>Gurgaon</td>\n",
       "      <td>5.35 Lakh</td>\n",
       "      <td>MG</td>\n",
       "      <td>Hector Sharp 2.0 Diesel Turbo MT</td>\n",
       "      <td>29,725</td>\n",
       "    </tr>\n",
       "    <tr>\n",
       "      <th>9998</th>\n",
       "      <td>2017</td>\n",
       "      <td>950 km</td>\n",
       "      <td>Diesel</td>\n",
       "      <td>Delhi</td>\n",
       "      <td>3.1 Lakh</td>\n",
       "      <td>Jaguar</td>\n",
       "      <td>XE Prestige</td>\n",
       "      <td>1.33 L</td>\n",
       "    </tr>\n",
       "    <tr>\n",
       "      <th>9999</th>\n",
       "      <td>2019</td>\n",
       "      <td>16,500 km</td>\n",
       "      <td>Petrol</td>\n",
       "      <td>Noida</td>\n",
       "      <td>4.25 Lakh</td>\n",
       "      <td>BMW</td>\n",
       "      <td>3 Series Gran Limousine 320Ld Luxury Line</td>\n",
       "      <td>89,676</td>\n",
       "    </tr>\n",
       "  </tbody>\n",
       "</table>\n",
       "<p>10000 rows × 8 columns</p>\n",
       "</div>"
      ],
      "text/plain": [
       "      Year Kilometers    Fuel Location       Price     Brand_Name  \\\n",
       "0     2015  76,345 km  Diesel  Gurgaon  26.85 Lakh  Mercedes-Benz   \n",
       "1     2019  38,386 km  Petrol  Gurgaon   5.29 Lakh         Maruti   \n",
       "2     2017  18,001 km  Petrol    Delhi   4.85 Lakh         Maruti   \n",
       "3     2021   5,000 km  Diesel    Delhi   17.9 Lakh       Mahindra   \n",
       "4     2012  57,718 km  Petrol    Noida    2.2 Lakh        Hyundai   \n",
       "...    ...        ...     ...      ...         ...            ...   \n",
       "9995  2022   3,000 km  Petrol  Gurgaon    7.3 Lakh           MINI   \n",
       "9996  2022  82,000 km  Petrol  Gurgaon   3.35 Lakh           Audi   \n",
       "9997  2019  16,500 km  Petrol  Gurgaon   5.35 Lakh             MG   \n",
       "9998  2017     950 km  Diesel    Delhi    3.1 Lakh         Jaguar   \n",
       "9999  2019  16,500 km  Petrol    Noida   4.25 Lakh            BMW   \n",
       "\n",
       "                                       Car_Name EMI Amount  \n",
       "0                            M-Class ML 350 CDI     44,588  \n",
       "1                    Suzuki Ignis Delta 1.2 AMT      8,776  \n",
       "2                      Suzuki Swift Lxi ABS (O)      8,054  \n",
       "3           Thar LX 4-STR Convertible Diesel AT     29,725  \n",
       "4                                     Eon Era +      3,653  \n",
       "...                                         ...        ...  \n",
       "9995                 Cooper Countryman Cooper D     32,798  \n",
       "9996                      A6 Technology 45 TFSI     58,123  \n",
       "9997           Hector Sharp 2.0 Diesel Turbo MT     29,725  \n",
       "9998                                XE Prestige     1.33 L  \n",
       "9999  3 Series Gran Limousine 320Ld Luxury Line     89,676  \n",
       "\n",
       "[10000 rows x 8 columns]"
      ]
     },
     "execution_count": 30,
     "metadata": {},
     "output_type": "execute_result"
    }
   ],
   "source": [
    "df"
   ]
  },
  {
   "cell_type": "code",
   "execution_count": 31,
   "id": "e949511e",
   "metadata": {},
   "outputs": [
    {
     "data": {
      "text/plain": [
       "2017    1506\n",
       "2021    1368\n",
       "2018    1254\n",
       "2019    1126\n",
       "2020     975\n",
       "2014     808\n",
       "2015     746\n",
       "2013     532\n",
       "2016     515\n",
       "2022     448\n",
       "2011     235\n",
       "2012     171\n",
       "2008     158\n",
       "2009      82\n",
       "2007      38\n",
       "2010      38\n",
       "Name: Year, dtype: int64"
      ]
     },
     "execution_count": 31,
     "metadata": {},
     "output_type": "execute_result"
    }
   ],
   "source": [
    "df['Year'].value_counts()"
   ]
  },
  {
   "cell_type": "code",
   "execution_count": 32,
   "id": "cf303e05",
   "metadata": {},
   "outputs": [
    {
     "data": {
      "text/plain": [
       "32,000 km      442\n",
       "15,000 km      289\n",
       "40,000 km      206\n",
       "45,000 km      204\n",
       "47,000 km      202\n",
       "              ... \n",
       "68,800 km       38\n",
       "1,959 km        38\n",
       "1,33,000 km     38\n",
       "59,500 km       38\n",
       "39,000 km       38\n",
       "Name: Kilometers, Length: 135, dtype: int64"
      ]
     },
     "execution_count": 32,
     "metadata": {},
     "output_type": "execute_result"
    }
   ],
   "source": [
    "df['Kilometers'].value_counts()"
   ]
  },
  {
   "cell_type": "markdown",
   "id": "79ab6a01",
   "metadata": {},
   "source": [
    "Although every columns has unique values but driven kilometer is an important feature for our machine to understand"
   ]
  },
  {
   "cell_type": "code",
   "execution_count": 33,
   "id": "7ec7d81e",
   "metadata": {},
   "outputs": [
    {
     "data": {
      "text/plain": [
       "Diesel    5281\n",
       "Petrol    4631\n",
       "CNG         88\n",
       "Name: Fuel, dtype: int64"
      ]
     },
     "execution_count": 33,
     "metadata": {},
     "output_type": "execute_result"
    }
   ],
   "source": [
    "df['Fuel'].value_counts()"
   ]
  },
  {
   "cell_type": "code",
   "execution_count": 34,
   "id": "7e3db647",
   "metadata": {},
   "outputs": [
    {
     "data": {
      "text/plain": [
       "Delhi        6661\n",
       "Gurgaon      1473\n",
       "Ahmedabad    1300\n",
       "Faridabad     390\n",
       "Noida         176\n",
       "Name: Location, dtype: int64"
      ]
     },
     "execution_count": 34,
     "metadata": {},
     "output_type": "execute_result"
    }
   ],
   "source": [
    "df['Location'].value_counts()"
   ]
  },
  {
   "cell_type": "code",
   "execution_count": 35,
   "id": "81704a41",
   "metadata": {},
   "outputs": [
    {
     "data": {
      "text/plain": [
       "17.9 Lakh     162\n",
       "30 Lakh       127\n",
       "53.5 Lakh     123\n",
       "25 Lakh       123\n",
       "48 Lakh       121\n",
       "             ... \n",
       "72 Lakh        38\n",
       "11.56 Lakh     38\n",
       "78.57 Lakh     38\n",
       "24.26 Lakh     38\n",
       "22.88 Lakh     38\n",
       "Name: Price, Length: 192, dtype: int64"
      ]
     },
     "execution_count": 35,
     "metadata": {},
     "output_type": "execute_result"
    }
   ],
   "source": [
    "df['Price'].value_counts()"
   ]
  },
  {
   "cell_type": "code",
   "execution_count": 36,
   "id": "f7b4a1bf",
   "metadata": {},
   "outputs": [
    {
     "data": {
      "text/plain": [
       "Mercedes-Benz    2974\n",
       "BMW               957\n",
       "Audi              944\n",
       "Hyundai           670\n",
       "Maruti            600\n",
       "Land              555\n",
       "Porsche           486\n",
       "Ford              447\n",
       "Mahindra          333\n",
       "Toyota            325\n",
       "Honda             294\n",
       "Volvo             246\n",
       "MG                240\n",
       "Jaguar            238\n",
       "Volkswagen        207\n",
       "MINI              197\n",
       "Bentley            83\n",
       "Kia                80\n",
       "Jeep               44\n",
       "Skoda              40\n",
       "Mitsubishi         40\n",
       "Name: Brand_Name, dtype: int64"
      ]
     },
     "execution_count": 36,
     "metadata": {},
     "output_type": "execute_result"
    }
   ],
   "source": [
    "df['Brand_Name'].value_counts()"
   ]
  },
  {
   "cell_type": "code",
   "execution_count": 37,
   "id": "d9ce76ce",
   "metadata": {},
   "outputs": [
    {
     "data": {
      "text/plain": [
       "E-Class E 220d Exclusive [2019-2019]    366\n",
       "E-Class E 220 d Avantgarde              317\n",
       "CLA 200 CDI Sport                       199\n",
       "GLS 400d 4MATIC                         161\n",
       "Thar LX 4-STR Convertible Diesel AT     127\n",
       "                                       ... \n",
       "6 Series GT 630d M Sport [2018-2019]     38\n",
       "A4 Technology 40 TFSI [2021-2022]        38\n",
       "7 Series 730Ld Sedan                     37\n",
       "Q5 2.0 TDI quattro Premium Plus          37\n",
       "E-Class E250 CDI Avantgarde              37\n",
       "Name: Car_Name, Length: 179, dtype: int64"
      ]
     },
     "execution_count": 37,
     "metadata": {},
     "output_type": "execute_result"
    }
   ],
   "source": [
    "df['Car_Name'].value_counts()"
   ]
  },
  {
   "cell_type": "code",
   "execution_count": 38,
   "id": "6c5f089f",
   "metadata": {},
   "outputs": [
    {
     "data": {
      "text/plain": [
       "1.38 L    191\n",
       "29,725    144\n",
       "88,845    144\n",
       "41,516    143\n",
       "79,712    141\n",
       "         ... \n",
       "63,719     44\n",
       "38,290     44\n",
       "1.2 L      44\n",
       "40,287     44\n",
       "37,996     44\n",
       "Name: EMI Amount, Length: 166, dtype: int64"
      ]
     },
     "execution_count": 38,
     "metadata": {},
     "output_type": "execute_result"
    }
   ],
   "source": [
    "df['EMI Amount'].value_counts()"
   ]
  },
  {
   "cell_type": "markdown",
   "id": "e75196fc",
   "metadata": {},
   "source": [
    "# Null Values"
   ]
  },
  {
   "cell_type": "markdown",
   "id": "682668dd",
   "metadata": {},
   "source": [
    "Price columns looks fine which is important feature for us"
   ]
  },
  {
   "cell_type": "code",
   "execution_count": 39,
   "id": "31a630f5",
   "metadata": {},
   "outputs": [
    {
     "data": {
      "text/plain": [
       "Year          0\n",
       "Kilometers    0\n",
       "Fuel          0\n",
       "Location      0\n",
       "Price         0\n",
       "Brand_Name    0\n",
       "Car_Name      0\n",
       "EMI Amount    0\n",
       "dtype: int64"
      ]
     },
     "execution_count": 39,
     "metadata": {},
     "output_type": "execute_result"
    }
   ],
   "source": [
    "#Lets check for null values\n",
    "df.isnull().sum()"
   ]
  },
  {
   "cell_type": "markdown",
   "id": "49383b0f",
   "metadata": {},
   "source": [
    "There are no null values"
   ]
  },
  {
   "cell_type": "code",
   "execution_count": 40,
   "id": "dc3579c0",
   "metadata": {},
   "outputs": [
    {
     "data": {
      "text/html": [
       "<div>\n",
       "<style scoped>\n",
       "    .dataframe tbody tr th:only-of-type {\n",
       "        vertical-align: middle;\n",
       "    }\n",
       "\n",
       "    .dataframe tbody tr th {\n",
       "        vertical-align: top;\n",
       "    }\n",
       "\n",
       "    .dataframe thead th {\n",
       "        text-align: right;\n",
       "    }\n",
       "</style>\n",
       "<table border=\"1\" class=\"dataframe\">\n",
       "  <thead>\n",
       "    <tr style=\"text-align: right;\">\n",
       "      <th></th>\n",
       "      <th>Year</th>\n",
       "      <th>Kilometers</th>\n",
       "      <th>Fuel</th>\n",
       "      <th>Location</th>\n",
       "      <th>Price</th>\n",
       "      <th>Brand_Name</th>\n",
       "      <th>Car_Name</th>\n",
       "      <th>EMI Amount</th>\n",
       "    </tr>\n",
       "  </thead>\n",
       "  <tbody>\n",
       "    <tr>\n",
       "      <th>0</th>\n",
       "      <td>2015</td>\n",
       "      <td>76,345 km</td>\n",
       "      <td>Diesel</td>\n",
       "      <td>Gurgaon</td>\n",
       "      <td>26.85 Lakh</td>\n",
       "      <td>Mercedes-Benz</td>\n",
       "      <td>M-Class ML 350 CDI</td>\n",
       "      <td>44,588</td>\n",
       "    </tr>\n",
       "    <tr>\n",
       "      <th>1</th>\n",
       "      <td>2019</td>\n",
       "      <td>38,386 km</td>\n",
       "      <td>Petrol</td>\n",
       "      <td>Gurgaon</td>\n",
       "      <td>5.29 Lakh</td>\n",
       "      <td>Maruti</td>\n",
       "      <td>Suzuki Ignis Delta 1.2 AMT</td>\n",
       "      <td>8,776</td>\n",
       "    </tr>\n",
       "    <tr>\n",
       "      <th>2</th>\n",
       "      <td>2017</td>\n",
       "      <td>18,001 km</td>\n",
       "      <td>Petrol</td>\n",
       "      <td>Delhi</td>\n",
       "      <td>4.85 Lakh</td>\n",
       "      <td>Maruti</td>\n",
       "      <td>Suzuki Swift Lxi ABS (O)</td>\n",
       "      <td>8,054</td>\n",
       "    </tr>\n",
       "    <tr>\n",
       "      <th>3</th>\n",
       "      <td>2021</td>\n",
       "      <td>5,000 km</td>\n",
       "      <td>Diesel</td>\n",
       "      <td>Delhi</td>\n",
       "      <td>17.9 Lakh</td>\n",
       "      <td>Mahindra</td>\n",
       "      <td>Thar LX 4-STR Convertible Diesel AT</td>\n",
       "      <td>29,725</td>\n",
       "    </tr>\n",
       "    <tr>\n",
       "      <th>4</th>\n",
       "      <td>2012</td>\n",
       "      <td>57,718 km</td>\n",
       "      <td>Petrol</td>\n",
       "      <td>Noida</td>\n",
       "      <td>2.2 Lakh</td>\n",
       "      <td>Hyundai</td>\n",
       "      <td>Eon Era +</td>\n",
       "      <td>3,653</td>\n",
       "    </tr>\n",
       "    <tr>\n",
       "      <th>...</th>\n",
       "      <td>...</td>\n",
       "      <td>...</td>\n",
       "      <td>...</td>\n",
       "      <td>...</td>\n",
       "      <td>...</td>\n",
       "      <td>...</td>\n",
       "      <td>...</td>\n",
       "      <td>...</td>\n",
       "    </tr>\n",
       "    <tr>\n",
       "      <th>9995</th>\n",
       "      <td>2022</td>\n",
       "      <td>3,000 km</td>\n",
       "      <td>Petrol</td>\n",
       "      <td>Gurgaon</td>\n",
       "      <td>7.3 Lakh</td>\n",
       "      <td>MINI</td>\n",
       "      <td>Cooper Countryman Cooper D</td>\n",
       "      <td>32,798</td>\n",
       "    </tr>\n",
       "    <tr>\n",
       "      <th>9996</th>\n",
       "      <td>2022</td>\n",
       "      <td>82,000 km</td>\n",
       "      <td>Petrol</td>\n",
       "      <td>Gurgaon</td>\n",
       "      <td>3.35 Lakh</td>\n",
       "      <td>Audi</td>\n",
       "      <td>A6 Technology 45 TFSI</td>\n",
       "      <td>58,123</td>\n",
       "    </tr>\n",
       "    <tr>\n",
       "      <th>9997</th>\n",
       "      <td>2019</td>\n",
       "      <td>16,500 km</td>\n",
       "      <td>Petrol</td>\n",
       "      <td>Gurgaon</td>\n",
       "      <td>5.35 Lakh</td>\n",
       "      <td>MG</td>\n",
       "      <td>Hector Sharp 2.0 Diesel Turbo MT</td>\n",
       "      <td>29,725</td>\n",
       "    </tr>\n",
       "    <tr>\n",
       "      <th>9998</th>\n",
       "      <td>2017</td>\n",
       "      <td>950 km</td>\n",
       "      <td>Diesel</td>\n",
       "      <td>Delhi</td>\n",
       "      <td>3.1 Lakh</td>\n",
       "      <td>Jaguar</td>\n",
       "      <td>XE Prestige</td>\n",
       "      <td>1.33 L</td>\n",
       "    </tr>\n",
       "    <tr>\n",
       "      <th>9999</th>\n",
       "      <td>2019</td>\n",
       "      <td>16,500 km</td>\n",
       "      <td>Petrol</td>\n",
       "      <td>Noida</td>\n",
       "      <td>4.25 Lakh</td>\n",
       "      <td>BMW</td>\n",
       "      <td>3 Series Gran Limousine 320Ld Luxury Line</td>\n",
       "      <td>89,676</td>\n",
       "    </tr>\n",
       "  </tbody>\n",
       "</table>\n",
       "<p>10000 rows × 8 columns</p>\n",
       "</div>"
      ],
      "text/plain": [
       "      Year Kilometers    Fuel Location       Price     Brand_Name  \\\n",
       "0     2015  76,345 km  Diesel  Gurgaon  26.85 Lakh  Mercedes-Benz   \n",
       "1     2019  38,386 km  Petrol  Gurgaon   5.29 Lakh         Maruti   \n",
       "2     2017  18,001 km  Petrol    Delhi   4.85 Lakh         Maruti   \n",
       "3     2021   5,000 km  Diesel    Delhi   17.9 Lakh       Mahindra   \n",
       "4     2012  57,718 km  Petrol    Noida    2.2 Lakh        Hyundai   \n",
       "...    ...        ...     ...      ...         ...            ...   \n",
       "9995  2022   3,000 km  Petrol  Gurgaon    7.3 Lakh           MINI   \n",
       "9996  2022  82,000 km  Petrol  Gurgaon   3.35 Lakh           Audi   \n",
       "9997  2019  16,500 km  Petrol  Gurgaon   5.35 Lakh             MG   \n",
       "9998  2017     950 km  Diesel    Delhi    3.1 Lakh         Jaguar   \n",
       "9999  2019  16,500 km  Petrol    Noida   4.25 Lakh            BMW   \n",
       "\n",
       "                                       Car_Name EMI Amount  \n",
       "0                            M-Class ML 350 CDI     44,588  \n",
       "1                    Suzuki Ignis Delta 1.2 AMT      8,776  \n",
       "2                      Suzuki Swift Lxi ABS (O)      8,054  \n",
       "3           Thar LX 4-STR Convertible Diesel AT     29,725  \n",
       "4                                     Eon Era +      3,653  \n",
       "...                                         ...        ...  \n",
       "9995                 Cooper Countryman Cooper D     32,798  \n",
       "9996                      A6 Technology 45 TFSI     58,123  \n",
       "9997           Hector Sharp 2.0 Diesel Turbo MT     29,725  \n",
       "9998                                XE Prestige     1.33 L  \n",
       "9999  3 Series Gran Limousine 320Ld Luxury Line     89,676  \n",
       "\n",
       "[10000 rows x 8 columns]"
      ]
     },
     "execution_count": 40,
     "metadata": {},
     "output_type": "execute_result"
    }
   ],
   "source": [
    "df"
   ]
  },
  {
   "cell_type": "code",
   "execution_count": 41,
   "id": "de2dd5ca",
   "metadata": {},
   "outputs": [
    {
     "data": {
      "text/html": [
       "<div>\n",
       "<style scoped>\n",
       "    .dataframe tbody tr th:only-of-type {\n",
       "        vertical-align: middle;\n",
       "    }\n",
       "\n",
       "    .dataframe tbody tr th {\n",
       "        vertical-align: top;\n",
       "    }\n",
       "\n",
       "    .dataframe thead th {\n",
       "        text-align: right;\n",
       "    }\n",
       "</style>\n",
       "<table border=\"1\" class=\"dataframe\">\n",
       "  <thead>\n",
       "    <tr style=\"text-align: right;\">\n",
       "      <th></th>\n",
       "      <th>Year</th>\n",
       "    </tr>\n",
       "  </thead>\n",
       "  <tbody>\n",
       "    <tr>\n",
       "      <th>count</th>\n",
       "      <td>10000.000000</td>\n",
       "    </tr>\n",
       "    <tr>\n",
       "      <th>mean</th>\n",
       "      <td>2017.259500</td>\n",
       "    </tr>\n",
       "    <tr>\n",
       "      <th>std</th>\n",
       "      <td>3.204432</td>\n",
       "    </tr>\n",
       "    <tr>\n",
       "      <th>min</th>\n",
       "      <td>2007.000000</td>\n",
       "    </tr>\n",
       "    <tr>\n",
       "      <th>25%</th>\n",
       "      <td>2015.000000</td>\n",
       "    </tr>\n",
       "    <tr>\n",
       "      <th>50%</th>\n",
       "      <td>2018.000000</td>\n",
       "    </tr>\n",
       "    <tr>\n",
       "      <th>75%</th>\n",
       "      <td>2020.000000</td>\n",
       "    </tr>\n",
       "    <tr>\n",
       "      <th>max</th>\n",
       "      <td>2022.000000</td>\n",
       "    </tr>\n",
       "  </tbody>\n",
       "</table>\n",
       "</div>"
      ],
      "text/plain": [
       "               Year\n",
       "count  10000.000000\n",
       "mean    2017.259500\n",
       "std        3.204432\n",
       "min     2007.000000\n",
       "25%     2015.000000\n",
       "50%     2018.000000\n",
       "75%     2020.000000\n",
       "max     2022.000000"
      ]
     },
     "execution_count": 41,
     "metadata": {},
     "output_type": "execute_result"
    }
   ],
   "source": [
    "df.describe()"
   ]
  },
  {
   "cell_type": "code",
   "execution_count": 43,
   "id": "5e7dba40",
   "metadata": {},
   "outputs": [
    {
     "data": {
      "text/plain": [
       "<AxesSubplot:xlabel='Year', ylabel='count'>"
      ]
     },
     "execution_count": 43,
     "metadata": {},
     "output_type": "execute_result"
    },
    {
     "data": {
      "image/png": "[encoded data removed]",
      "text/plain": [
       "<Figure size 432x288 with 1 Axes>"
      ]
     },
     "metadata": {
      "needs_background": "light"
     },
     "output_type": "display_data"
    }
   ],
   "source": [
    "sns.countplot(df['Year'])"
   ]
  },
  {
   "cell_type": "code",
   "execution_count": 44,
   "id": "b86135e5",
   "metadata": {},
   "outputs": [
    {
     "data": {
      "text/plain": [
       "<AxesSubplot:xlabel='Kilometers', ylabel='count'>"
      ]
     },
     "execution_count": 44,
     "metadata": {},
     "output_type": "execute_result"
    },
    {
     "data": {
      "image/png": "[encoded data removed]",
      "text/plain": [
       "<Figure size 432x288 with 1 Axes>"
      ]
     },
     "metadata": {
      "needs_background": "light"
     },
     "output_type": "display_data"
    }
   ],
   "source": [
    "sns.countplot(df['Kilometers'])"
   ]
  },
  {
   "cell_type": "code",
   "execution_count": 45,
   "id": "ebc5edca",
   "metadata": {},
   "outputs": [
    {
     "data": {
      "text/plain": [
       "<AxesSubplot:xlabel='Fuel', ylabel='count'>"
      ]
     },
     "execution_count": 45,
     "metadata": {},
     "output_type": "execute_result"
    },
    {
     "data": {
      "image/png": "[encoded data removed]",
      "text/plain": [
       "<Figure size 432x288 with 1 Axes>"
      ]
     },
     "metadata": {
      "needs_background": "light"
     },
     "output_type": "display_data"
    }
   ],
   "source": [
    "sns.countplot(df['Fuel'])"
   ]
  },
  {
   "cell_type": "code",
   "execution_count": 46,
   "id": "d542bf11",
   "metadata": {},
   "outputs": [
    {
     "data": {
      "text/plain": [
       "<AxesSubplot:xlabel='Location', ylabel='count'>"
      ]
     },
     "execution_count": 46,
     "metadata": {},
     "output_type": "execute_result"
    },
    {
     "data": {
      "image/png": "[encoded data removed]",
      "text/plain": [
       "<Figure size 432x288 with 1 Axes>"
      ]
     },
     "metadata": {
      "needs_background": "light"
     },
     "output_type": "display_data"
    }
   ],
   "source": [
    "sns.countplot(df['Location'])"
   ]
  },
  {
   "cell_type": "code",
   "execution_count": 47,
   "id": "fa28aaa6",
   "metadata": {},
   "outputs": [
    {
     "data": {
      "text/plain": [
       "<AxesSubplot:xlabel='Price', ylabel='count'>"
      ]
     },
     "execution_count": 47,
     "metadata": {},
     "output_type": "execute_result"
    },
    {
     "data": {
      "image/png": "[encoded data removed]",
      "text/plain": [
       "<Figure size 432x288 with 1 Axes>"
      ]
     },
     "metadata": {
      "needs_background": "light"
     },
     "output_type": "display_data"
    }
   ],
   "source": [
    "sns.countplot(df['Price'])"
   ]
  },
  {
   "cell_type": "code",
   "execution_count": 48,
   "id": "0e14bd99",
   "metadata": {},
   "outputs": [
    {
     "data": {
      "text/plain": [
       "<AxesSubplot:xlabel='Brand_Name', ylabel='count'>"
      ]
     },
     "execution_count": 48,
     "metadata": {},
     "output_type": "execute_result"
    },
    {
     "data": {
      "image/png": "[encoded data removed]",
      "text/plain": [
       "<Figure size 432x288 with 1 Axes>"
      ]
     },
     "metadata": {
      "needs_background": "light"
     },
     "output_type": "display_data"
    }
   ],
   "source": [
    "sns.countplot(df['Brand_Name'])"
   ]
  },
  {
   "cell_type": "code",
   "execution_count": 49,
   "id": "a843a7a5",
   "metadata": {},
   "outputs": [
    {
     "data": {
      "text/plain": [
       "<AxesSubplot:xlabel='Car_Name', ylabel='count'>"
      ]
     },
     "execution_count": 49,
     "metadata": {},
     "output_type": "execute_result"
    },
    {
     "data": {
      "image/png": "[encoded data removed]",
      "text/plain": [
       "<Figure size 432x288 with 1 Axes>"
      ]
     },
     "metadata": {
      "needs_background": "light"
     },
     "output_type": "display_data"
    }
   ],
   "source": [
    "sns.countplot(df['Car_Name'])"
   ]
  },
  {
   "cell_type": "code",
   "execution_count": 50,
   "id": "4ae84783",
   "metadata": {},
   "outputs": [
    {
     "data": {
      "text/plain": [
       "<AxesSubplot:xlabel='EMI Amount', ylabel='count'>"
      ]
     },
     "execution_count": 50,
     "metadata": {},
     "output_type": "execute_result"
    },
    {
     "data": {
      "image/png": "[encoded data removed]",
      "text/plain": [
       "<Figure size 432x288 with 1 Axes>"
      ]
     },
     "metadata": {
      "needs_background": "light"
     },
     "output_type": "display_data"
    }
   ],
   "source": [
    "sns.countplot(df['EMI Amount'])"
   ]
  },
  {
   "cell_type": "code",
   "execution_count": 51,
   "id": "ccdcfa80",
   "metadata": {},
   "outputs": [
    {
     "data": {
      "text/html": [
       "<div>\n",
       "<style scoped>\n",
       "    .dataframe tbody tr th:only-of-type {\n",
       "        vertical-align: middle;\n",
       "    }\n",
       "\n",
       "    .dataframe tbody tr th {\n",
       "        vertical-align: top;\n",
       "    }\n",
       "\n",
       "    .dataframe thead th {\n",
       "        text-align: right;\n",
       "    }\n",
       "</style>\n",
       "<table border=\"1\" class=\"dataframe\">\n",
       "  <thead>\n",
       "    <tr style=\"text-align: right;\">\n",
       "      <th></th>\n",
       "      <th>Year</th>\n",
       "    </tr>\n",
       "  </thead>\n",
       "  <tbody>\n",
       "    <tr>\n",
       "      <th>count</th>\n",
       "      <td>10000.000000</td>\n",
       "    </tr>\n",
       "    <tr>\n",
       "      <th>mean</th>\n",
       "      <td>2017.259500</td>\n",
       "    </tr>\n",
       "    <tr>\n",
       "      <th>std</th>\n",
       "      <td>3.204432</td>\n",
       "    </tr>\n",
       "    <tr>\n",
       "      <th>min</th>\n",
       "      <td>2007.000000</td>\n",
       "    </tr>\n",
       "    <tr>\n",
       "      <th>25%</th>\n",
       "      <td>2015.000000</td>\n",
       "    </tr>\n",
       "    <tr>\n",
       "      <th>50%</th>\n",
       "      <td>2018.000000</td>\n",
       "    </tr>\n",
       "    <tr>\n",
       "      <th>75%</th>\n",
       "      <td>2020.000000</td>\n",
       "    </tr>\n",
       "    <tr>\n",
       "      <th>max</th>\n",
       "      <td>2022.000000</td>\n",
       "    </tr>\n",
       "  </tbody>\n",
       "</table>\n",
       "</div>"
      ],
      "text/plain": [
       "               Year\n",
       "count  10000.000000\n",
       "mean    2017.259500\n",
       "std        3.204432\n",
       "min     2007.000000\n",
       "25%     2015.000000\n",
       "50%     2018.000000\n",
       "75%     2020.000000\n",
       "max     2022.000000"
      ]
     },
     "execution_count": 51,
     "metadata": {},
     "output_type": "execute_result"
    }
   ],
   "source": [
    "df.describe()"
   ]
  },
  {
   "cell_type": "code",
   "execution_count": null,
   "id": "61ef60b4",
   "metadata": {},
   "outputs": [],
   "source": []
  },
  {
   "cell_type": "code",
   "execution_count": 52,
   "id": "a0c8533a",
   "metadata": {},
   "outputs": [],
   "source": [
    "#Encoding the object data type\n",
    "from sklearn.preprocessing import StandardScaler\n",
    "from sklearn.preprocessing import LabelEncoder"
   ]
  },
  {
   "cell_type": "code",
   "execution_count": 53,
   "id": "d886a77b",
   "metadata": {},
   "outputs": [],
   "source": [
    "enc= LabelEncoder()"
   ]
  },
  {
   "cell_type": "code",
   "execution_count": 54,
   "id": "e9ce626a",
   "metadata": {},
   "outputs": [],
   "source": [
    "#Encoding the object data type into int data type\n",
    "columns=['Year','Kilometers','Fuel','Location','Price','Brand_Name','Car_Name','EMI Amount']\n",
    "df[columns] = df[columns].apply(enc.fit_transform) "
   ]
  },
  {
   "cell_type": "code",
   "execution_count": 55,
   "id": "4cc02188",
   "metadata": {},
   "outputs": [
    {
     "data": {
      "text/html": [
       "<div>\n",
       "<style scoped>\n",
       "    .dataframe tbody tr th:only-of-type {\n",
       "        vertical-align: middle;\n",
       "    }\n",
       "\n",
       "    .dataframe tbody tr th {\n",
       "        vertical-align: top;\n",
       "    }\n",
       "\n",
       "    .dataframe thead th {\n",
       "        text-align: right;\n",
       "    }\n",
       "</style>\n",
       "<table border=\"1\" class=\"dataframe\">\n",
       "  <thead>\n",
       "    <tr style=\"text-align: right;\">\n",
       "      <th></th>\n",
       "      <th>Year</th>\n",
       "      <th>Kilometers</th>\n",
       "      <th>Fuel</th>\n",
       "      <th>Location</th>\n",
       "      <th>Price</th>\n",
       "      <th>Brand_Name</th>\n",
       "      <th>Car_Name</th>\n",
       "      <th>EMI Amount</th>\n",
       "    </tr>\n",
       "  </thead>\n",
       "  <tbody>\n",
       "    <tr>\n",
       "      <th>0</th>\n",
       "      <td>8</td>\n",
       "      <td>115</td>\n",
       "      <td>1</td>\n",
       "      <td>3</td>\n",
       "      <td>74</td>\n",
       "      <td>14</td>\n",
       "      <td>99</td>\n",
       "      <td>91</td>\n",
       "    </tr>\n",
       "    <tr>\n",
       "      <th>1</th>\n",
       "      <td>12</td>\n",
       "      <td>53</td>\n",
       "      <td>2</td>\n",
       "      <td>3</td>\n",
       "      <td>134</td>\n",
       "      <td>13</td>\n",
       "      <td>143</td>\n",
       "      <td>145</td>\n",
       "    </tr>\n",
       "    <tr>\n",
       "      <th>2</th>\n",
       "      <td>10</td>\n",
       "      <td>19</td>\n",
       "      <td>2</td>\n",
       "      <td>1</td>\n",
       "      <td>109</td>\n",
       "      <td>13</td>\n",
       "      <td>146</td>\n",
       "      <td>140</td>\n",
       "    </tr>\n",
       "    <tr>\n",
       "      <th>3</th>\n",
       "      <td>14</td>\n",
       "      <td>74</td>\n",
       "      <td>1</td>\n",
       "      <td>1</td>\n",
       "      <td>41</td>\n",
       "      <td>12</td>\n",
       "      <td>150</td>\n",
       "      <td>60</td>\n",
       "    </tr>\n",
       "    <tr>\n",
       "      <th>4</th>\n",
       "      <td>5</td>\n",
       "      <td>87</td>\n",
       "      <td>2</td>\n",
       "      <td>4</td>\n",
       "      <td>48</td>\n",
       "      <td>5</td>\n",
       "      <td>67</td>\n",
       "      <td>62</td>\n",
       "    </tr>\n",
       "    <tr>\n",
       "      <th>...</th>\n",
       "      <td>...</td>\n",
       "      <td>...</td>\n",
       "      <td>...</td>\n",
       "      <td>...</td>\n",
       "      <td>...</td>\n",
       "      <td>...</td>\n",
       "      <td>...</td>\n",
       "      <td>...</td>\n",
       "    </tr>\n",
       "    <tr>\n",
       "      <th>9995</th>\n",
       "      <td>15</td>\n",
       "      <td>37</td>\n",
       "      <td>2</td>\n",
       "      <td>3</td>\n",
       "      <td>168</td>\n",
       "      <td>11</td>\n",
       "      <td>48</td>\n",
       "      <td>67</td>\n",
       "    </tr>\n",
       "    <tr>\n",
       "      <th>9996</th>\n",
       "      <td>15</td>\n",
       "      <td>122</td>\n",
       "      <td>2</td>\n",
       "      <td>3</td>\n",
       "      <td>84</td>\n",
       "      <td>0</td>\n",
       "      <td>18</td>\n",
       "      <td>107</td>\n",
       "    </tr>\n",
       "    <tr>\n",
       "      <th>9997</th>\n",
       "      <td>12</td>\n",
       "      <td>15</td>\n",
       "      <td>2</td>\n",
       "      <td>3</td>\n",
       "      <td>135</td>\n",
       "      <td>10</td>\n",
       "      <td>94</td>\n",
       "      <td>60</td>\n",
       "    </tr>\n",
       "    <tr>\n",
       "      <th>9998</th>\n",
       "      <td>10</td>\n",
       "      <td>133</td>\n",
       "      <td>1</td>\n",
       "      <td>1</td>\n",
       "      <td>82</td>\n",
       "      <td>6</td>\n",
       "      <td>168</td>\n",
       "      <td>16</td>\n",
       "    </tr>\n",
       "    <tr>\n",
       "      <th>9999</th>\n",
       "      <td>12</td>\n",
       "      <td>15</td>\n",
       "      <td>2</td>\n",
       "      <td>4</td>\n",
       "      <td>105</td>\n",
       "      <td>1</td>\n",
       "      <td>1</td>\n",
       "      <td>153</td>\n",
       "    </tr>\n",
       "  </tbody>\n",
       "</table>\n",
       "<p>10000 rows × 8 columns</p>\n",
       "</div>"
      ],
      "text/plain": [
       "      Year  Kilometers  Fuel  Location  Price  Brand_Name  Car_Name  \\\n",
       "0        8         115     1         3     74          14        99   \n",
       "1       12          53     2         3    134          13       143   \n",
       "2       10          19     2         1    109          13       146   \n",
       "3       14          74     1         1     41          12       150   \n",
       "4        5          87     2         4     48           5        67   \n",
       "...    ...         ...   ...       ...    ...         ...       ...   \n",
       "9995    15          37     2         3    168          11        48   \n",
       "9996    15         122     2         3     84           0        18   \n",
       "9997    12          15     2         3    135          10        94   \n",
       "9998    10         133     1         1     82           6       168   \n",
       "9999    12          15     2         4    105           1         1   \n",
       "\n",
       "      EMI Amount  \n",
       "0             91  \n",
       "1            145  \n",
       "2            140  \n",
       "3             60  \n",
       "4             62  \n",
       "...          ...  \n",
       "9995          67  \n",
       "9996         107  \n",
       "9997          60  \n",
       "9998          16  \n",
       "9999         153  \n",
       "\n",
       "[10000 rows x 8 columns]"
      ]
     },
     "execution_count": 55,
     "metadata": {},
     "output_type": "execute_result"
    }
   ],
   "source": [
    "df"
   ]
  },
  {
   "cell_type": "code",
   "execution_count": 56,
   "id": "509282a0",
   "metadata": {},
   "outputs": [
    {
     "data": {
      "text/html": [
       "<div>\n",
       "<style scoped>\n",
       "    .dataframe tbody tr th:only-of-type {\n",
       "        vertical-align: middle;\n",
       "    }\n",
       "\n",
       "    .dataframe tbody tr th {\n",
       "        vertical-align: top;\n",
       "    }\n",
       "\n",
       "    .dataframe thead th {\n",
       "        text-align: right;\n",
       "    }\n",
       "</style>\n",
       "<table border=\"1\" class=\"dataframe\">\n",
       "  <thead>\n",
       "    <tr style=\"text-align: right;\">\n",
       "      <th></th>\n",
       "      <th>Year</th>\n",
       "      <th>Kilometers</th>\n",
       "      <th>Fuel</th>\n",
       "      <th>Location</th>\n",
       "      <th>Price</th>\n",
       "      <th>Brand_Name</th>\n",
       "      <th>Car_Name</th>\n",
       "      <th>EMI Amount</th>\n",
       "    </tr>\n",
       "  </thead>\n",
       "  <tbody>\n",
       "    <tr>\n",
       "      <th>count</th>\n",
       "      <td>10000.000000</td>\n",
       "      <td>10000.000000</td>\n",
       "      <td>10000.000000</td>\n",
       "      <td>10000.000000</td>\n",
       "      <td>10000.000000</td>\n",
       "      <td>10000.000000</td>\n",
       "      <td>10000.00000</td>\n",
       "      <td>10000.000000</td>\n",
       "    </tr>\n",
       "    <tr>\n",
       "      <th>mean</th>\n",
       "      <td>10.259500</td>\n",
       "      <td>60.314000</td>\n",
       "      <td>1.454300</td>\n",
       "      <td>1.256400</td>\n",
       "      <td>96.725400</td>\n",
       "      <td>9.611900</td>\n",
       "      <td>85.52490</td>\n",
       "      <td>82.761000</td>\n",
       "    </tr>\n",
       "    <tr>\n",
       "      <th>std</th>\n",
       "      <td>3.204432</td>\n",
       "      <td>38.067959</td>\n",
       "      <td>0.515304</td>\n",
       "      <td>0.922466</td>\n",
       "      <td>55.044131</td>\n",
       "      <td>6.059798</td>\n",
       "      <td>49.52207</td>\n",
       "      <td>48.672045</td>\n",
       "    </tr>\n",
       "    <tr>\n",
       "      <th>min</th>\n",
       "      <td>0.000000</td>\n",
       "      <td>0.000000</td>\n",
       "      <td>0.000000</td>\n",
       "      <td>0.000000</td>\n",
       "      <td>0.000000</td>\n",
       "      <td>0.000000</td>\n",
       "      <td>0.00000</td>\n",
       "      <td>0.000000</td>\n",
       "    </tr>\n",
       "    <tr>\n",
       "      <th>25%</th>\n",
       "      <td>8.000000</td>\n",
       "      <td>26.000000</td>\n",
       "      <td>1.000000</td>\n",
       "      <td>1.000000</td>\n",
       "      <td>48.000000</td>\n",
       "      <td>4.000000</td>\n",
       "      <td>48.00000</td>\n",
       "      <td>40.000000</td>\n",
       "    </tr>\n",
       "    <tr>\n",
       "      <th>50%</th>\n",
       "      <td>11.000000</td>\n",
       "      <td>56.000000</td>\n",
       "      <td>1.000000</td>\n",
       "      <td>1.000000</td>\n",
       "      <td>99.000000</td>\n",
       "      <td>12.000000</td>\n",
       "      <td>82.00000</td>\n",
       "      <td>85.000000</td>\n",
       "    </tr>\n",
       "    <tr>\n",
       "      <th>75%</th>\n",
       "      <td>13.000000</td>\n",
       "      <td>92.000000</td>\n",
       "      <td>2.000000</td>\n",
       "      <td>1.000000</td>\n",
       "      <td>142.000000</td>\n",
       "      <td>14.000000</td>\n",
       "      <td>126.00000</td>\n",
       "      <td>127.000000</td>\n",
       "    </tr>\n",
       "    <tr>\n",
       "      <th>max</th>\n",
       "      <td>15.000000</td>\n",
       "      <td>134.000000</td>\n",
       "      <td>2.000000</td>\n",
       "      <td>4.000000</td>\n",
       "      <td>191.000000</td>\n",
       "      <td>20.000000</td>\n",
       "      <td>178.00000</td>\n",
       "      <td>165.000000</td>\n",
       "    </tr>\n",
       "  </tbody>\n",
       "</table>\n",
       "</div>"
      ],
      "text/plain": [
       "               Year    Kilometers          Fuel      Location         Price  \\\n",
       "count  10000.000000  10000.000000  10000.000000  10000.000000  10000.000000   \n",
       "mean      10.259500     60.314000      1.454300      1.256400     96.725400   \n",
       "std        3.204432     38.067959      0.515304      0.922466     55.044131   \n",
       "min        0.000000      0.000000      0.000000      0.000000      0.000000   \n",
       "25%        8.000000     26.000000      1.000000      1.000000     48.000000   \n",
       "50%       11.000000     56.000000      1.000000      1.000000     99.000000   \n",
       "75%       13.000000     92.000000      2.000000      1.000000    142.000000   \n",
       "max       15.000000    134.000000      2.000000      4.000000    191.000000   \n",
       "\n",
       "         Brand_Name     Car_Name    EMI Amount  \n",
       "count  10000.000000  10000.00000  10000.000000  \n",
       "mean       9.611900     85.52490     82.761000  \n",
       "std        6.059798     49.52207     48.672045  \n",
       "min        0.000000      0.00000      0.000000  \n",
       "25%        4.000000     48.00000     40.000000  \n",
       "50%       12.000000     82.00000     85.000000  \n",
       "75%       14.000000    126.00000    127.000000  \n",
       "max       20.000000    178.00000    165.000000  "
      ]
     },
     "execution_count": 56,
     "metadata": {},
     "output_type": "execute_result"
    }
   ],
   "source": [
    "df.describe()"
   ]
  },
  {
   "cell_type": "markdown",
   "id": "af947b59",
   "metadata": {},
   "source": [
    "Lets drop more than 17 lakhs"
   ]
  },
  {
   "cell_type": "code",
   "execution_count": 57,
   "id": "e9e6bad2",
   "metadata": {},
   "outputs": [
    {
     "data": {
      "text/plain": [
       "<AxesSubplot:xlabel='Price', ylabel='Density'>"
      ]
     },
     "execution_count": 57,
     "metadata": {},
     "output_type": "execute_result"
    },
    {
     "data": {
      "image/png": "[encoded data removed]",
      "text/plain": [
       "<Figure size 432x288 with 1 Axes>"
      ]
     },
     "metadata": {
      "needs_background": "light"
     },
     "output_type": "display_data"
    }
   ],
   "source": [
    "sns.distplot(df['Price'])"
   ]
  },
  {
   "cell_type": "code",
   "execution_count": 58,
   "id": "c01f4213",
   "metadata": {},
   "outputs": [
    {
     "data": {
      "text/plain": [
       "<AxesSubplot:xlabel='Kilometers', ylabel='Density'>"
      ]
     },
     "execution_count": 58,
     "metadata": {},
     "output_type": "execute_result"
    },
    {
     "data": {
      "image/png": "[encoded data removed]",
      "text/plain": [
       "<Figure size 432x288 with 1 Axes>"
      ]
     },
     "metadata": {
      "needs_background": "light"
     },
     "output_type": "display_data"
    }
   ],
   "source": [
    "sns.distplot(df['Kilometers'])"
   ]
  },
  {
   "cell_type": "code",
   "execution_count": 59,
   "id": "66afb8ff",
   "metadata": {},
   "outputs": [
    {
     "data": {
      "text/html": [
       "<div>\n",
       "<style scoped>\n",
       "    .dataframe tbody tr th:only-of-type {\n",
       "        vertical-align: middle;\n",
       "    }\n",
       "\n",
       "    .dataframe tbody tr th {\n",
       "        vertical-align: top;\n",
       "    }\n",
       "\n",
       "    .dataframe thead th {\n",
       "        text-align: right;\n",
       "    }\n",
       "</style>\n",
       "<table border=\"1\" class=\"dataframe\">\n",
       "  <thead>\n",
       "    <tr style=\"text-align: right;\">\n",
       "      <th></th>\n",
       "      <th>Year</th>\n",
       "      <th>Kilometers</th>\n",
       "      <th>Fuel</th>\n",
       "      <th>Location</th>\n",
       "      <th>Price</th>\n",
       "      <th>Brand_Name</th>\n",
       "      <th>Car_Name</th>\n",
       "      <th>EMI Amount</th>\n",
       "    </tr>\n",
       "  </thead>\n",
       "  <tbody>\n",
       "    <tr>\n",
       "      <th>0</th>\n",
       "      <td>8</td>\n",
       "      <td>115</td>\n",
       "      <td>1</td>\n",
       "      <td>3</td>\n",
       "      <td>74</td>\n",
       "      <td>14</td>\n",
       "      <td>99</td>\n",
       "      <td>91</td>\n",
       "    </tr>\n",
       "    <tr>\n",
       "      <th>1</th>\n",
       "      <td>12</td>\n",
       "      <td>53</td>\n",
       "      <td>2</td>\n",
       "      <td>3</td>\n",
       "      <td>134</td>\n",
       "      <td>13</td>\n",
       "      <td>143</td>\n",
       "      <td>145</td>\n",
       "    </tr>\n",
       "    <tr>\n",
       "      <th>2</th>\n",
       "      <td>10</td>\n",
       "      <td>19</td>\n",
       "      <td>2</td>\n",
       "      <td>1</td>\n",
       "      <td>109</td>\n",
       "      <td>13</td>\n",
       "      <td>146</td>\n",
       "      <td>140</td>\n",
       "    </tr>\n",
       "    <tr>\n",
       "      <th>3</th>\n",
       "      <td>14</td>\n",
       "      <td>74</td>\n",
       "      <td>1</td>\n",
       "      <td>1</td>\n",
       "      <td>41</td>\n",
       "      <td>12</td>\n",
       "      <td>150</td>\n",
       "      <td>60</td>\n",
       "    </tr>\n",
       "    <tr>\n",
       "      <th>4</th>\n",
       "      <td>5</td>\n",
       "      <td>87</td>\n",
       "      <td>2</td>\n",
       "      <td>4</td>\n",
       "      <td>48</td>\n",
       "      <td>5</td>\n",
       "      <td>67</td>\n",
       "      <td>62</td>\n",
       "    </tr>\n",
       "    <tr>\n",
       "      <th>...</th>\n",
       "      <td>...</td>\n",
       "      <td>...</td>\n",
       "      <td>...</td>\n",
       "      <td>...</td>\n",
       "      <td>...</td>\n",
       "      <td>...</td>\n",
       "      <td>...</td>\n",
       "      <td>...</td>\n",
       "    </tr>\n",
       "    <tr>\n",
       "      <th>9995</th>\n",
       "      <td>15</td>\n",
       "      <td>37</td>\n",
       "      <td>2</td>\n",
       "      <td>3</td>\n",
       "      <td>168</td>\n",
       "      <td>11</td>\n",
       "      <td>48</td>\n",
       "      <td>67</td>\n",
       "    </tr>\n",
       "    <tr>\n",
       "      <th>9996</th>\n",
       "      <td>15</td>\n",
       "      <td>122</td>\n",
       "      <td>2</td>\n",
       "      <td>3</td>\n",
       "      <td>84</td>\n",
       "      <td>0</td>\n",
       "      <td>18</td>\n",
       "      <td>107</td>\n",
       "    </tr>\n",
       "    <tr>\n",
       "      <th>9997</th>\n",
       "      <td>12</td>\n",
       "      <td>15</td>\n",
       "      <td>2</td>\n",
       "      <td>3</td>\n",
       "      <td>135</td>\n",
       "      <td>10</td>\n",
       "      <td>94</td>\n",
       "      <td>60</td>\n",
       "    </tr>\n",
       "    <tr>\n",
       "      <th>9998</th>\n",
       "      <td>10</td>\n",
       "      <td>133</td>\n",
       "      <td>1</td>\n",
       "      <td>1</td>\n",
       "      <td>82</td>\n",
       "      <td>6</td>\n",
       "      <td>168</td>\n",
       "      <td>16</td>\n",
       "    </tr>\n",
       "    <tr>\n",
       "      <th>9999</th>\n",
       "      <td>12</td>\n",
       "      <td>15</td>\n",
       "      <td>2</td>\n",
       "      <td>4</td>\n",
       "      <td>105</td>\n",
       "      <td>1</td>\n",
       "      <td>1</td>\n",
       "      <td>153</td>\n",
       "    </tr>\n",
       "  </tbody>\n",
       "</table>\n",
       "<p>8942 rows × 8 columns</p>\n",
       "</div>"
      ],
      "text/plain": [
       "      Year  Kilometers  Fuel  Location  Price  Brand_Name  Car_Name  \\\n",
       "0        8         115     1         3     74          14        99   \n",
       "1       12          53     2         3    134          13       143   \n",
       "2       10          19     2         1    109          13       146   \n",
       "3       14          74     1         1     41          12       150   \n",
       "4        5          87     2         4     48           5        67   \n",
       "...    ...         ...   ...       ...    ...         ...       ...   \n",
       "9995    15          37     2         3    168          11        48   \n",
       "9996    15         122     2         3     84           0        18   \n",
       "9997    12          15     2         3    135          10        94   \n",
       "9998    10         133     1         1     82           6       168   \n",
       "9999    12          15     2         4    105           1         1   \n",
       "\n",
       "      EMI Amount  \n",
       "0             91  \n",
       "1            145  \n",
       "2            140  \n",
       "3             60  \n",
       "4             62  \n",
       "...          ...  \n",
       "9995          67  \n",
       "9996         107  \n",
       "9997          60  \n",
       "9998          16  \n",
       "9999         153  \n",
       "\n",
       "[8942 rows x 8 columns]"
      ]
     },
     "execution_count": 59,
     "metadata": {},
     "output_type": "execute_result"
    }
   ],
   "source": [
    "df[df['Price']>20]"
   ]
  },
  {
   "cell_type": "code",
   "execution_count": 60,
   "id": "76f05834",
   "metadata": {},
   "outputs": [
    {
     "data": {
      "text/html": [
       "<div>\n",
       "<style scoped>\n",
       "    .dataframe tbody tr th:only-of-type {\n",
       "        vertical-align: middle;\n",
       "    }\n",
       "\n",
       "    .dataframe tbody tr th {\n",
       "        vertical-align: top;\n",
       "    }\n",
       "\n",
       "    .dataframe thead th {\n",
       "        text-align: right;\n",
       "    }\n",
       "</style>\n",
       "<table border=\"1\" class=\"dataframe\">\n",
       "  <thead>\n",
       "    <tr style=\"text-align: right;\">\n",
       "      <th></th>\n",
       "      <th>Year</th>\n",
       "      <th>Kilometers</th>\n",
       "      <th>Fuel</th>\n",
       "      <th>Location</th>\n",
       "      <th>Price</th>\n",
       "      <th>Brand_Name</th>\n",
       "      <th>Car_Name</th>\n",
       "      <th>EMI Amount</th>\n",
       "    </tr>\n",
       "  </thead>\n",
       "  <tbody>\n",
       "    <tr>\n",
       "      <th>0</th>\n",
       "      <td>8</td>\n",
       "      <td>115</td>\n",
       "      <td>1</td>\n",
       "      <td>3</td>\n",
       "      <td>74</td>\n",
       "      <td>14</td>\n",
       "      <td>99</td>\n",
       "      <td>91</td>\n",
       "    </tr>\n",
       "    <tr>\n",
       "      <th>1</th>\n",
       "      <td>12</td>\n",
       "      <td>53</td>\n",
       "      <td>2</td>\n",
       "      <td>3</td>\n",
       "      <td>134</td>\n",
       "      <td>13</td>\n",
       "      <td>143</td>\n",
       "      <td>145</td>\n",
       "    </tr>\n",
       "    <tr>\n",
       "      <th>3</th>\n",
       "      <td>14</td>\n",
       "      <td>74</td>\n",
       "      <td>1</td>\n",
       "      <td>1</td>\n",
       "      <td>41</td>\n",
       "      <td>12</td>\n",
       "      <td>150</td>\n",
       "      <td>60</td>\n",
       "    </tr>\n",
       "    <tr>\n",
       "      <th>4</th>\n",
       "      <td>5</td>\n",
       "      <td>87</td>\n",
       "      <td>2</td>\n",
       "      <td>4</td>\n",
       "      <td>48</td>\n",
       "      <td>5</td>\n",
       "      <td>67</td>\n",
       "      <td>62</td>\n",
       "    </tr>\n",
       "    <tr>\n",
       "      <th>5</th>\n",
       "      <td>11</td>\n",
       "      <td>128</td>\n",
       "      <td>1</td>\n",
       "      <td>2</td>\n",
       "      <td>87</td>\n",
       "      <td>20</td>\n",
       "      <td>130</td>\n",
       "      <td>33</td>\n",
       "    </tr>\n",
       "    <tr>\n",
       "      <th>...</th>\n",
       "      <td>...</td>\n",
       "      <td>...</td>\n",
       "      <td>...</td>\n",
       "      <td>...</td>\n",
       "      <td>...</td>\n",
       "      <td>...</td>\n",
       "      <td>...</td>\n",
       "      <td>...</td>\n",
       "    </tr>\n",
       "    <tr>\n",
       "      <th>9991</th>\n",
       "      <td>12</td>\n",
       "      <td>32</td>\n",
       "      <td>2</td>\n",
       "      <td>3</td>\n",
       "      <td>49</td>\n",
       "      <td>14</td>\n",
       "      <td>23</td>\n",
       "      <td>59</td>\n",
       "    </tr>\n",
       "    <tr>\n",
       "      <th>9992</th>\n",
       "      <td>13</td>\n",
       "      <td>130</td>\n",
       "      <td>0</td>\n",
       "      <td>1</td>\n",
       "      <td>108</td>\n",
       "      <td>3</td>\n",
       "      <td>63</td>\n",
       "      <td>45</td>\n",
       "    </tr>\n",
       "    <tr>\n",
       "      <th>9995</th>\n",
       "      <td>15</td>\n",
       "      <td>37</td>\n",
       "      <td>2</td>\n",
       "      <td>3</td>\n",
       "      <td>168</td>\n",
       "      <td>11</td>\n",
       "      <td>48</td>\n",
       "      <td>67</td>\n",
       "    </tr>\n",
       "    <tr>\n",
       "      <th>9996</th>\n",
       "      <td>15</td>\n",
       "      <td>122</td>\n",
       "      <td>2</td>\n",
       "      <td>3</td>\n",
       "      <td>84</td>\n",
       "      <td>0</td>\n",
       "      <td>18</td>\n",
       "      <td>107</td>\n",
       "    </tr>\n",
       "    <tr>\n",
       "      <th>9998</th>\n",
       "      <td>10</td>\n",
       "      <td>133</td>\n",
       "      <td>1</td>\n",
       "      <td>1</td>\n",
       "      <td>82</td>\n",
       "      <td>6</td>\n",
       "      <td>168</td>\n",
       "      <td>16</td>\n",
       "    </tr>\n",
       "  </tbody>\n",
       "</table>\n",
       "<p>7338 rows × 8 columns</p>\n",
       "</div>"
      ],
      "text/plain": [
       "      Year  Kilometers  Fuel  Location  Price  Brand_Name  Car_Name  \\\n",
       "0        8         115     1         3     74          14        99   \n",
       "1       12          53     2         3    134          13       143   \n",
       "3       14          74     1         1     41          12       150   \n",
       "4        5          87     2         4     48           5        67   \n",
       "5       11         128     1         2     87          20       130   \n",
       "...    ...         ...   ...       ...    ...         ...       ...   \n",
       "9991    12          32     2         3     49          14        23   \n",
       "9992    13         130     0         1    108           3        63   \n",
       "9995    15          37     2         3    168          11        48   \n",
       "9996    15         122     2         3     84           0        18   \n",
       "9998    10         133     1         1     82           6       168   \n",
       "\n",
       "      EMI Amount  \n",
       "0             91  \n",
       "1            145  \n",
       "3             60  \n",
       "4             62  \n",
       "5             33  \n",
       "...          ...  \n",
       "9991          59  \n",
       "9992          45  \n",
       "9995          67  \n",
       "9996         107  \n",
       "9998          16  \n",
       "\n",
       "[7338 rows x 8 columns]"
      ]
     },
     "execution_count": 60,
     "metadata": {},
     "output_type": "execute_result"
    }
   ],
   "source": [
    "df[df['Kilometers']>28]"
   ]
  },
  {
   "cell_type": "code",
   "execution_count": 63,
   "id": "efcd9d0f",
   "metadata": {},
   "outputs": [
    {
     "data": {
      "image/png": "[encoded data removed]",
      "text/plain": [
       "<Figure size 1440x864 with 16 Axes>"
      ]
     },
     "metadata": {
      "needs_background": "light"
     },
     "output_type": "display_data"
    }
   ],
   "source": [
    "df.plot(kind='kde',subplots=True,layout=(4,4),sharex=False,legend=True,fontsize=3,figsize=(20,12))\n",
    "plt.show()"
   ]
  },
  {
   "cell_type": "markdown",
   "id": "ad37d013",
   "metadata": {},
   "source": [
    "# Skewness"
   ]
  },
  {
   "cell_type": "code",
   "execution_count": 65,
   "id": "5b1ce4e1",
   "metadata": {},
   "outputs": [
    {
     "data": {
      "text/plain": [
       "Location      1.135755\n",
       "Kilometers    0.284349\n",
       "Car_Name      0.123627\n",
       "Fuel         -0.009708\n",
       "EMI Amount   -0.028834\n",
       "Price        -0.058699\n",
       "Brand_Name   -0.304715\n",
       "Year         -0.737659\n",
       "dtype: float64"
      ]
     },
     "execution_count": 65,
     "metadata": {},
     "output_type": "execute_result"
    }
   ],
   "source": [
    "#checking the skewness\n",
    "df.skew().sort_values(ascending=False)"
   ]
  },
  {
   "cell_type": "code",
   "execution_count": 66,
   "id": "5baf042b",
   "metadata": {},
   "outputs": [],
   "source": [
    "from sklearn.preprocessing import power_transform\n",
    "New_df=power_transform(df)"
   ]
  },
  {
   "cell_type": "code",
   "execution_count": 68,
   "id": "a41bab8d",
   "metadata": {},
   "outputs": [
    {
     "data": {
      "text/plain": [
       "Location     -0.000725\n",
       "Fuel         -0.063289\n",
       "Kilometers   -0.171020\n",
       "Year         -0.217167\n",
       "Car_Name     -0.228164\n",
       "EMI Amount   -0.288356\n",
       "Price        -0.299708\n",
       "Brand_Name   -0.415974\n",
       "dtype: float64"
      ]
     },
     "execution_count": 68,
     "metadata": {},
     "output_type": "execute_result"
    }
   ],
   "source": [
    "#Transforming the data to reduce skewness\n",
    "pd.DataFrame(New_df,columns=df.columns).skew().sort_values(ascending=False) "
   ]
  },
  {
   "cell_type": "code",
   "execution_count": 69,
   "id": "6e947263",
   "metadata": {},
   "outputs": [
    {
     "data": {
      "image/png": "[encoded data removed]",
      "text/plain": [
       "<Figure size 1440x864 with 16 Axes>"
      ]
     },
     "metadata": {
      "needs_background": "light"
     },
     "output_type": "display_data"
    }
   ],
   "source": [
    "df.plot(kind='kde',subplots=True,layout=(4,4),sharex=False,legend=True,fontsize=3,figsize=(20,12))\n",
    "plt.show()"
   ]
  },
  {
   "cell_type": "code",
   "execution_count": 37,
   "id": "6aa2057f",
   "metadata": {},
   "outputs": [
    {
     "data": {
      "text/plain": [
       "Location      1.355319\n",
       "Kilometers    0.263912\n",
       "EMI           0.076528\n",
       "Price         0.073129\n",
       "Fuel_Type     0.045950\n",
       "Car_Name     -0.203146\n",
       "dtype: float64"
      ]
     },
     "execution_count": 37,
     "metadata": {},
     "output_type": "execute_result"
    }
   ],
   "source": [
    "#checking the skewness\n",
    "cars.skew().sort_values(ascending=False)"
   ]
  },
  {
   "cell_type": "markdown",
   "id": "cc8db448",
   "metadata": {},
   "source": [
    "Kilomeres is skewed lets see"
   ]
  },
  {
   "cell_type": "code",
   "execution_count": 70,
   "id": "3d2d58e8",
   "metadata": {},
   "outputs": [],
   "source": [
    "#dividing the feature and target variable\n",
    "\n",
    "X= df.drop('Price',axis=1)\n",
    "Y= df['Price']"
   ]
  },
  {
   "cell_type": "code",
   "execution_count": 71,
   "id": "2e868dae",
   "metadata": {},
   "outputs": [
    {
     "data": {
      "image/png": "[encoded data removed]",
      "text/plain": [
       "<Figure size 1008x1008 with 2 Axes>"
      ]
     },
     "metadata": {
      "needs_background": "light"
     },
     "output_type": "display_data"
    }
   ],
   "source": [
    "#Checking correlation\n",
    "\n",
    "corr_mat=X.corr()\n",
    "plt.figure(figsize=[14,14])\n",
    "sns.heatmap(corr_mat,annot=True)\n",
    "plt.title(\"Correlation Matrix\")\n",
    "plt.show()"
   ]
  },
  {
   "cell_type": "markdown",
   "id": "63180f1a",
   "metadata": {},
   "source": [
    "seems there is no corelation"
   ]
  },
  {
   "cell_type": "markdown",
   "id": "ee8619e4",
   "metadata": {},
   "source": [
    "# Multicolliniarity"
   ]
  },
  {
   "cell_type": "code",
   "execution_count": 72,
   "id": "83c56b9f",
   "metadata": {},
   "outputs": [],
   "source": [
    "from statsmodels.stats.outliers_influence import variance_inflation_factor"
   ]
  },
  {
   "cell_type": "code",
   "execution_count": 73,
   "id": "c2732763",
   "metadata": {},
   "outputs": [
    {
     "data": {
      "text/html": [
       "<div>\n",
       "<style scoped>\n",
       "    .dataframe tbody tr th:only-of-type {\n",
       "        vertical-align: middle;\n",
       "    }\n",
       "\n",
       "    .dataframe tbody tr th {\n",
       "        vertical-align: top;\n",
       "    }\n",
       "\n",
       "    .dataframe thead th {\n",
       "        text-align: right;\n",
       "    }\n",
       "</style>\n",
       "<table border=\"1\" class=\"dataframe\">\n",
       "  <thead>\n",
       "    <tr style=\"text-align: right;\">\n",
       "      <th></th>\n",
       "      <th>feature</th>\n",
       "      <th>VIF</th>\n",
       "    </tr>\n",
       "  </thead>\n",
       "  <tbody>\n",
       "    <tr>\n",
       "      <th>0</th>\n",
       "      <td>Year</td>\n",
       "      <td>7.723683</td>\n",
       "    </tr>\n",
       "    <tr>\n",
       "      <th>1</th>\n",
       "      <td>Kilometers</td>\n",
       "      <td>3.316447</td>\n",
       "    </tr>\n",
       "    <tr>\n",
       "      <th>2</th>\n",
       "      <td>Fuel</td>\n",
       "      <td>7.374601</td>\n",
       "    </tr>\n",
       "    <tr>\n",
       "      <th>3</th>\n",
       "      <td>Location</td>\n",
       "      <td>2.839916</td>\n",
       "    </tr>\n",
       "    <tr>\n",
       "      <th>4</th>\n",
       "      <td>Brand_Name</td>\n",
       "      <td>3.077185</td>\n",
       "    </tr>\n",
       "    <tr>\n",
       "      <th>5</th>\n",
       "      <td>Car_Name</td>\n",
       "      <td>3.849392</td>\n",
       "    </tr>\n",
       "    <tr>\n",
       "      <th>6</th>\n",
       "      <td>EMI Amount</td>\n",
       "      <td>3.512410</td>\n",
       "    </tr>\n",
       "  </tbody>\n",
       "</table>\n",
       "</div>"
      ],
      "text/plain": [
       "      feature       VIF\n",
       "0        Year  7.723683\n",
       "1  Kilometers  3.316447\n",
       "2        Fuel  7.374601\n",
       "3    Location  2.839916\n",
       "4  Brand_Name  3.077185\n",
       "5    Car_Name  3.849392\n",
       "6  EMI Amount  3.512410"
      ]
     },
     "execution_count": 73,
     "metadata": {},
     "output_type": "execute_result"
    }
   ],
   "source": [
    "vif_data = pd.DataFrame()\n",
    "vif_data[\"feature\"] = X.columns\n",
    "vif_data[\"VIF\"] = [variance_inflation_factor(X.values, i)\n",
    "                          for i in range(len(X.columns))]\n",
    "\n",
    "vif_data"
   ]
  },
  {
   "cell_type": "markdown",
   "id": "77b6aa92",
   "metadata": {},
   "source": [
    "# Outliers"
   ]
  },
  {
   "cell_type": "code",
   "execution_count": 74,
   "id": "f66c69db",
   "metadata": {},
   "outputs": [
    {
     "data": {
      "image/png": "[encoded data removed]",
      "text/plain": [
       "<Figure size 720x864 with 1 Axes>"
      ]
     },
     "metadata": {
      "needs_background": "light"
     },
     "output_type": "display_data"
    }
   ],
   "source": [
    "#cheking outliers\n",
    "\n",
    "X.plot(kind='box',figsize=(10,12),layout=(4,3))\n",
    "plt.show()"
   ]
  },
  {
   "cell_type": "code",
   "execution_count": 75,
   "id": "07aceafd",
   "metadata": {},
   "outputs": [],
   "source": [
    "from scipy.stats import zscore"
   ]
  },
  {
   "cell_type": "code",
   "execution_count": 76,
   "id": "4b5dd826",
   "metadata": {},
   "outputs": [
    {
     "data": {
      "text/plain": [
       "Year          True\n",
       "Kilometers    True\n",
       "Fuel          True\n",
       "Location      True\n",
       "Brand_Name    True\n",
       "Car_Name      True\n",
       "EMI Amount    True\n",
       "dtype: bool"
      ]
     },
     "execution_count": 76,
     "metadata": {},
     "output_type": "execute_result"
    }
   ],
   "source": [
    "(np.abs(zscore(X)<3)).all()"
   ]
  },
  {
   "cell_type": "markdown",
   "id": "8948953c",
   "metadata": {},
   "source": [
    "There are no Outliers"
   ]
  },
  {
   "cell_type": "code",
   "execution_count": 77,
   "id": "e43065dc",
   "metadata": {},
   "outputs": [],
   "source": [
    "Scalar=StandardScaler()\n",
    "X_Scaled=Scalar.fit_transform(X)"
   ]
  },
  {
   "cell_type": "code",
   "execution_count": 78,
   "id": "613a3907",
   "metadata": {},
   "outputs": [
    {
     "data": {
      "text/plain": [
       "array([[-0.70515235,  1.43660799, -0.88165984, ...,  0.72416927,\n",
       "         0.27211653,  0.16928428],\n",
       "       [ 0.54318108, -0.19213969,  1.05903979, ...,  0.55913901,\n",
       "         1.1606537 ,  1.27880618],\n",
       "       [-0.08098563, -1.0853239 ,  1.05903979, ...,  0.55913901,\n",
       "         1.22123578,  1.17607267],\n",
       "       ...,\n",
       "       [ 0.54318108, -1.19040439,  1.05903979, ...,  0.06404824,\n",
       "         0.1711464 , -0.46766348],\n",
       "       [-0.08098563,  1.90947022, -0.88165984, ..., -0.59607279,\n",
       "         1.66550437, -1.37171837],\n",
       "       [ 0.54318108, -1.19040439,  1.05903979, ..., -1.42122407,\n",
       "        -1.70689809,  1.4431798 ]])"
      ]
     },
     "execution_count": 78,
     "metadata": {},
     "output_type": "execute_result"
    }
   ],
   "source": [
    "X_Scaled"
   ]
  },
  {
   "cell_type": "markdown",
   "id": "336c13a8",
   "metadata": {},
   "source": [
    "# Model Building"
   ]
  },
  {
   "cell_type": "code",
   "execution_count": 79,
   "id": "8cd6b247",
   "metadata": {},
   "outputs": [],
   "source": [
    "#Importing required libraries for model building\n",
    "\n",
    "from sklearn.model_selection import cross_val_score\n",
    "from sklearn.model_selection import train_test_split\n",
    "from sklearn.linear_model import Ridge\n",
    "from sklearn.linear_model import Lasso\n",
    "from sklearn.linear_model import LinearRegression\n",
    "from sklearn.metrics import r2_score\n",
    "from sklearn.tree import DecisionTreeRegressor\n",
    "from sklearn.ensemble import RandomForestRegressor\n",
    "from sklearn.model_selection import GridSearchCV\n",
    "from sklearn.linear_model import LogisticRegression\n",
    "from sklearn.ensemble import GradientBoostingRegressor\n",
    "from sklearn.svm import SVC"
   ]
  },
  {
   "cell_type": "markdown",
   "id": "b8df4ca3",
   "metadata": {},
   "source": [
    "# Linear Regression"
   ]
  },
  {
   "cell_type": "code",
   "execution_count": 80,
   "id": "bf45ee91",
   "metadata": {},
   "outputs": [
    {
     "name": "stdout",
     "output_type": "stream",
     "text": [
      "R-Squared: 1.5831692063589142\n"
     ]
    }
   ],
   "source": [
    "LR=LinearRegression()\n",
    "X_train,X_test,y_train,y_test=train_test_split(X_Scaled,Y,test_size=0.25,random_state=50)\n",
    "LR.fit(X_train,y_train)\n",
    "pred_test=LR.predict(X_test)\n",
    "print('R-Squared:',r2_score(y_test,pred_test)*100)"
   ]
  },
  {
   "cell_type": "markdown",
   "id": "5f7a3732",
   "metadata": {},
   "source": [
    "# Decision Tree Regressor"
   ]
  },
  {
   "cell_type": "code",
   "execution_count": 81,
   "id": "692f934c",
   "metadata": {},
   "outputs": [
    {
     "name": "stdout",
     "output_type": "stream",
     "text": [
      "R-Squared: 94.08990613751558\n"
     ]
    }
   ],
   "source": [
    "DT=DecisionTreeRegressor()\n",
    "X_train,X_test,y_train,y_test=train_test_split(X_Scaled,Y,test_size=0.25,random_state=50)\n",
    "DT.fit(X_train,y_train)\n",
    "pred_test=DT.predict(X_test)\n",
    "print('R-Squared:',r2_score(y_test,pred_test)*100)"
   ]
  },
  {
   "cell_type": "markdown",
   "id": "609594be",
   "metadata": {},
   "source": [
    "# Random Forest Regressor"
   ]
  },
  {
   "cell_type": "code",
   "execution_count": 82,
   "id": "b21172ba",
   "metadata": {},
   "outputs": [
    {
     "name": "stdout",
     "output_type": "stream",
     "text": [
      "R-Squared: 97.33440048968032\n"
     ]
    }
   ],
   "source": [
    "rf=RandomForestRegressor()\n",
    "X_train,X_test,y_train,y_test=train_test_split(X_Scaled,Y,test_size=0.25,random_state=50)\n",
    "rf.fit(X_train,y_train)\n",
    "pred_test=rf.predict(X_test)\n",
    "\n",
    "print('R-Squared:',r2_score(y_test,pred_test)*100)"
   ]
  },
  {
   "cell_type": "markdown",
   "id": "750a67e0",
   "metadata": {},
   "source": [
    "# Gradient Boosting"
   ]
  },
  {
   "cell_type": "code",
   "execution_count": 83,
   "id": "3cd3b35b",
   "metadata": {},
   "outputs": [
    {
     "name": "stdout",
     "output_type": "stream",
     "text": [
      "R-Squared: 60.173329838952284\n"
     ]
    }
   ],
   "source": [
    "GB=GradientBoostingRegressor()\n",
    "X_train,X_test,y_train,y_test=train_test_split(X_Scaled,Y,test_size=0.25,random_state=50)\n",
    "GB.fit(X_train,y_train)\n",
    "pred_test=GB.predict(X_test)\n",
    "\n",
    "print('R-Squared:',r2_score(y_test,pred_test)*100)"
   ]
  },
  {
   "cell_type": "markdown",
   "id": "12b1f18e",
   "metadata": {},
   "source": [
    "# Cross Validation"
   ]
  },
  {
   "cell_type": "code",
   "execution_count": 84,
   "id": "3f65e177",
   "metadata": {},
   "outputs": [],
   "source": [
    "from sklearn.model_selection import cross_val_score"
   ]
  },
  {
   "cell_type": "markdown",
   "id": "90fdfdb4",
   "metadata": {},
   "source": [
    "# Cross Validation for Decision Tree"
   ]
  },
  {
   "cell_type": "code",
   "execution_count": 85,
   "id": "83bbfbcd",
   "metadata": {},
   "outputs": [
    {
     "name": "stdout",
     "output_type": "stream",
     "text": [
      "The cross validation score for Decision Tree Regressor 2 is 0.9471195442675657\n",
      "The cross validation score for Decision Tree Regressor 3 is 0.9491058142390715\n",
      "The cross validation score for Decision Tree Regressor 4 is 0.9472857305186249\n",
      "The cross validation score for Decision Tree Regressor 5 is 0.9442880339843753\n"
     ]
    }
   ],
   "source": [
    "for i in range(2,6):\n",
    "    DT_Val=cross_val_score(DT,X_Scaled,Y,cv=i)\n",
    "    print(\"The cross validation score for Decision Tree Regressor\",i,\"is\",DT_Val.mean())"
   ]
  },
  {
   "cell_type": "markdown",
   "id": "172fa184",
   "metadata": {},
   "source": [
    "# Cross Validation for Random Forest"
   ]
  },
  {
   "cell_type": "code",
   "execution_count": 86,
   "id": "58a10c40",
   "metadata": {},
   "outputs": [
    {
     "name": "stdout",
     "output_type": "stream",
     "text": [
      "The cross validation score for 2 is 97.14426429610899\n",
      "The cross validation score for 3 is 97.06986919577894\n",
      "The cross validation score for 4 is 97.03863775000755\n",
      "The cross validation score for 5 is 97.00096641925711\n"
     ]
    }
   ],
   "source": [
    "for i in range(2,6):\n",
    "    RF_Val=cross_val_score(rf,X_Scaled,Y,cv=i)\n",
    "    print(\"The cross validation score for\",i,\"is\",RF_Val.mean()*100)"
   ]
  },
  {
   "cell_type": "markdown",
   "id": "439577e7",
   "metadata": {},
   "source": [
    "# Cross Validation for Gradient Boost\n"
   ]
  },
  {
   "cell_type": "code",
   "execution_count": 87,
   "id": "eaaa87ec",
   "metadata": {},
   "outputs": [
    {
     "name": "stdout",
     "output_type": "stream",
     "text": [
      "The cross validation score for 2 is 61.298861697341565\n",
      "The cross validation score for 3 is 61.26259126103214\n",
      "The cross validation score for 4 is 60.792473886761435\n",
      "The cross validation score for 5 is 61.34166897835669\n"
     ]
    }
   ],
   "source": [
    "for i in range(2,6):\n",
    "    GB_Val=cross_val_score(GB,X_Scaled,Y,cv=i)\n",
    "    print(\"The cross validation score for\",i,\"is\",GB_Val.mean()*100)"
   ]
  },
  {
   "cell_type": "markdown",
   "id": "45d0f40b",
   "metadata": {},
   "source": [
    "We can final RFC as our final model with 97%"
   ]
  },
  {
   "cell_type": "markdown",
   "id": "8c95a128",
   "metadata": {},
   "source": [
    "# Train Test Split"
   ]
  },
  {
   "cell_type": "code",
   "execution_count": 88,
   "id": "42d4ed65",
   "metadata": {},
   "outputs": [],
   "source": [
    "from sklearn.model_selection import train_test_split\n",
    "from sklearn.metrics import mean_squared_error,mean_absolute_error,r2_score\n",
    "from sklearn.linear_model import LinearRegression\n",
    "from sklearn.svm import SVR\n",
    "from sklearn.tree import DecisionTreeRegressor\n",
    "from sklearn.ensemble import RandomForestRegressor\n",
    "from sklearn.neighbors import KNeighborsRegressor\n",
    "from sklearn.ensemble import AdaBoostRegressor\n",
    "from sklearn.ensemble import GradientBoostingRegressor\n",
    "from sklearn.linear_model import Lasso,Ridge,ElasticNet\n",
    "from sklearn.model_selection import cross_val_score\n",
    "from sklearn.model_selection import KFold"
   ]
  },
  {
   "cell_type": "markdown",
   "id": "48429c67",
   "metadata": {},
   "source": [
    "We will check the best possible random state to train our model. Using LinearRegression to check and then later will run with other models.\n",
    "\n"
   ]
  },
  {
   "cell_type": "code",
   "execution_count": 89,
   "id": "b4cd7012",
   "metadata": {},
   "outputs": [
    {
     "name": "stdout",
     "output_type": "stream",
     "text": [
      "MaX R2 score corresponding to random state 72 is 0.03157598097053915\n"
     ]
    }
   ],
   "source": [
    "MaX_r2_score=0\n",
    "for i in range(1,200):\n",
    "    X_train,X_test,Y_train,Y_test = train_test_split(X,Y, test_size=0.20,random_state=i)\n",
    "    lr = LinearRegression()\n",
    "    lr.fit(X_train,Y_train)\n",
    "    y_pred = lr.predict(X_test)\n",
    "    r2_scores = r2_score(Y_test,y_pred)\n",
    "    if r2_scores>MaX_r2_score:\n",
    "        MaX_r2_score = r2_scores\n",
    "        random_state = i\n",
    "    \n",
    "print(\"MaX R2 score corresponding to random state\",random_state,\"is\",MaX_r2_score)"
   ]
  },
  {
   "cell_type": "markdown",
   "id": "f06e6168",
   "metadata": {},
   "source": [
    "We can see that the best random state is 72. We will split the data with this random state."
   ]
  },
  {
   "cell_type": "code",
   "execution_count": 90,
   "id": "45436018",
   "metadata": {},
   "outputs": [],
   "source": [
    "X_train,X_test,Y_train,Y_test = train_test_split(X,Y, test_size=0.20,random_state=72)"
   ]
  },
  {
   "cell_type": "code",
   "execution_count": 91,
   "id": "8e1908f0",
   "metadata": {},
   "outputs": [
    {
     "name": "stdout",
     "output_type": "stream",
     "text": [
      "-0.004607837495708145\n",
      "0.011706272496282422\n",
      "0.015074566907005593\n"
     ]
    }
   ],
   "source": [
    "kernellist=['linear','poly','rbf']\n",
    "for i in kernellist:\n",
    "    sv=SVR(kernel=i)\n",
    "    sv.fit(X_train,Y_train)\n",
    "    print(sv.score(X_train,Y_train))"
   ]
  },
  {
   "cell_type": "code",
   "execution_count": 92,
   "id": "f437627a",
   "metadata": {},
   "outputs": [
    {
     "data": {
      "text/html": [
       "<div>\n",
       "<style scoped>\n",
       "    .dataframe tbody tr th:only-of-type {\n",
       "        vertical-align: middle;\n",
       "    }\n",
       "\n",
       "    .dataframe tbody tr th {\n",
       "        vertical-align: top;\n",
       "    }\n",
       "\n",
       "    .dataframe thead th {\n",
       "        text-align: right;\n",
       "    }\n",
       "</style>\n",
       "<table border=\"1\" class=\"dataframe\">\n",
       "  <thead>\n",
       "    <tr style=\"text-align: right;\">\n",
       "      <th></th>\n",
       "      <th>Model</th>\n",
       "      <th>Training Score</th>\n",
       "      <th>Test Score</th>\n",
       "      <th>Mean Square Error</th>\n",
       "      <th>Cross Validation Score</th>\n",
       "    </tr>\n",
       "  </thead>\n",
       "  <tbody>\n",
       "    <tr>\n",
       "      <th>0</th>\n",
       "      <td>Linear Regression</td>\n",
       "      <td>1.684637</td>\n",
       "      <td>3.157598</td>\n",
       "      <td>2942.564443</td>\n",
       "      <td>1.882960</td>\n",
       "    </tr>\n",
       "    <tr>\n",
       "      <th>1</th>\n",
       "      <td>DecisionTree</td>\n",
       "      <td>100.000000</td>\n",
       "      <td>96.257851</td>\n",
       "      <td>113.705500</td>\n",
       "      <td>95.552999</td>\n",
       "    </tr>\n",
       "    <tr>\n",
       "      <th>2</th>\n",
       "      <td>RandomForest</td>\n",
       "      <td>99.660131</td>\n",
       "      <td>97.929587</td>\n",
       "      <td>62.909661</td>\n",
       "      <td>97.678543</td>\n",
       "    </tr>\n",
       "    <tr>\n",
       "      <th>3</th>\n",
       "      <td>KNN</td>\n",
       "      <td>75.429030</td>\n",
       "      <td>53.115694</td>\n",
       "      <td>1424.583540</td>\n",
       "      <td>54.394882</td>\n",
       "    </tr>\n",
       "    <tr>\n",
       "      <th>4</th>\n",
       "      <td>AdaBoost</td>\n",
       "      <td>11.638068</td>\n",
       "      <td>10.493368</td>\n",
       "      <td>2719.666459</td>\n",
       "      <td>12.695733</td>\n",
       "    </tr>\n",
       "    <tr>\n",
       "      <th>5</th>\n",
       "      <td>GradientBoosting</td>\n",
       "      <td>61.712293</td>\n",
       "      <td>58.532693</td>\n",
       "      <td>1259.987570</td>\n",
       "      <td>60.577349</td>\n",
       "    </tr>\n",
       "    <tr>\n",
       "      <th>6</th>\n",
       "      <td>Lasso</td>\n",
       "      <td>1.586378</td>\n",
       "      <td>2.762384</td>\n",
       "      <td>2954.573062</td>\n",
       "      <td>1.801585</td>\n",
       "    </tr>\n",
       "    <tr>\n",
       "      <th>7</th>\n",
       "      <td>Ridge</td>\n",
       "      <td>1.684637</td>\n",
       "      <td>3.157389</td>\n",
       "      <td>2942.570789</td>\n",
       "      <td>1.882975</td>\n",
       "    </tr>\n",
       "  </tbody>\n",
       "</table>\n",
       "</div>"
      ],
      "text/plain": [
       "               Model  Training Score  Test Score  Mean Square Error  \\\n",
       "0  Linear Regression        1.684637    3.157598        2942.564443   \n",
       "1       DecisionTree      100.000000   96.257851         113.705500   \n",
       "2       RandomForest       99.660131   97.929587          62.909661   \n",
       "3                KNN       75.429030   53.115694        1424.583540   \n",
       "4           AdaBoost       11.638068   10.493368        2719.666459   \n",
       "5   GradientBoosting       61.712293   58.532693        1259.987570   \n",
       "6              Lasso        1.586378    2.762384        2954.573062   \n",
       "7              Ridge        1.684637    3.157389        2942.570789   \n",
       "\n",
       "   Cross Validation Score  \n",
       "0                1.882960  \n",
       "1               95.552999  \n",
       "2               97.678543  \n",
       "3               54.394882  \n",
       "4               12.695733  \n",
       "5               60.577349  \n",
       "6                1.801585  \n",
       "7                1.882975  "
      ]
     },
     "execution_count": 92,
     "metadata": {},
     "output_type": "execute_result"
    }
   ],
   "source": [
    "dt=DecisionTreeRegressor()\n",
    "rf=RandomForestRegressor()\n",
    "kn=KNeighborsRegressor()\n",
    "ab=AdaBoostRegressor()\n",
    "gb=GradientBoostingRegressor()\n",
    "ls=Lasso()\n",
    "rd=Ridge()\n",
    "\n",
    "model=[lr,dt,rf,kn,ab,gb,ls,rd]\n",
    "kf = KFold(n_splits=5, random_state=191, shuffle=True)\n",
    "\n",
    "train=[]\n",
    "test=[]\n",
    "Mse=[]\n",
    "cv=[]\n",
    "\n",
    "for m in model:\n",
    "    m.fit(X_train,Y_train)\n",
    "    pred_train=m.predict(X_train)\n",
    "    pred_test=m.predict(X_test)\n",
    "    train_score=r2_score(Y_train,pred_train)\n",
    "    train.append(train_score*100)\n",
    "    test_score=r2_score(Y_test,pred_test)\n",
    "    test.append(test_score*100)\n",
    "    mse = mean_squared_error(Y_test,pred_test)\n",
    "    Mse.append(mse)\n",
    "    score=cross_val_score(m,X,Y,cv=kf)\n",
    "    cv.append(score.mean()*100)\n",
    "    \n",
    "Performance={'Model':['Linear Regression','DecisionTree','RandomForest','KNN','AdaBoost','GradientBoosting','Lasso','Ridge'],'Training Score':train,'Test Score':test,'Mean Square Error':Mse,'Cross Validation Score': cv}\n",
    "Performance=pd.DataFrame(data=Performance)\n",
    "Performance"
   ]
  },
  {
   "cell_type": "code",
   "execution_count": 93,
   "id": "4adec765",
   "metadata": {},
   "outputs": [
    {
     "data": {
      "text/html": [
       "<div>\n",
       "<style scoped>\n",
       "    .dataframe tbody tr th:only-of-type {\n",
       "        vertical-align: middle;\n",
       "    }\n",
       "\n",
       "    .dataframe tbody tr th {\n",
       "        vertical-align: top;\n",
       "    }\n",
       "\n",
       "    .dataframe thead th {\n",
       "        text-align: right;\n",
       "    }\n",
       "</style>\n",
       "<table border=\"1\" class=\"dataframe\">\n",
       "  <thead>\n",
       "    <tr style=\"text-align: right;\">\n",
       "      <th></th>\n",
       "      <th>Model</th>\n",
       "      <th>Training Score</th>\n",
       "      <th>Test Score</th>\n",
       "      <th>Mean Square Error</th>\n",
       "      <th>Cross Validation Score</th>\n",
       "      <th>Difference</th>\n",
       "    </tr>\n",
       "  </thead>\n",
       "  <tbody>\n",
       "    <tr>\n",
       "      <th>0</th>\n",
       "      <td>Linear Regression</td>\n",
       "      <td>1.684637</td>\n",
       "      <td>3.157598</td>\n",
       "      <td>2942.564443</td>\n",
       "      <td>1.882960</td>\n",
       "      <td>1.274638</td>\n",
       "    </tr>\n",
       "    <tr>\n",
       "      <th>1</th>\n",
       "      <td>DecisionTree</td>\n",
       "      <td>100.000000</td>\n",
       "      <td>96.257851</td>\n",
       "      <td>113.705500</td>\n",
       "      <td>95.552999</td>\n",
       "      <td>0.704852</td>\n",
       "    </tr>\n",
       "    <tr>\n",
       "      <th>2</th>\n",
       "      <td>RandomForest</td>\n",
       "      <td>99.660131</td>\n",
       "      <td>97.929587</td>\n",
       "      <td>62.909661</td>\n",
       "      <td>97.678543</td>\n",
       "      <td>0.251045</td>\n",
       "    </tr>\n",
       "    <tr>\n",
       "      <th>3</th>\n",
       "      <td>KNN</td>\n",
       "      <td>75.429030</td>\n",
       "      <td>53.115694</td>\n",
       "      <td>1424.583540</td>\n",
       "      <td>54.394882</td>\n",
       "      <td>-1.279188</td>\n",
       "    </tr>\n",
       "    <tr>\n",
       "      <th>4</th>\n",
       "      <td>AdaBoost</td>\n",
       "      <td>11.638068</td>\n",
       "      <td>10.493368</td>\n",
       "      <td>2719.666459</td>\n",
       "      <td>12.695733</td>\n",
       "      <td>-2.202365</td>\n",
       "    </tr>\n",
       "    <tr>\n",
       "      <th>5</th>\n",
       "      <td>GradientBoosting</td>\n",
       "      <td>61.712293</td>\n",
       "      <td>58.532693</td>\n",
       "      <td>1259.987570</td>\n",
       "      <td>60.577349</td>\n",
       "      <td>-2.044656</td>\n",
       "    </tr>\n",
       "    <tr>\n",
       "      <th>6</th>\n",
       "      <td>Lasso</td>\n",
       "      <td>1.586378</td>\n",
       "      <td>2.762384</td>\n",
       "      <td>2954.573062</td>\n",
       "      <td>1.801585</td>\n",
       "      <td>0.960798</td>\n",
       "    </tr>\n",
       "    <tr>\n",
       "      <th>7</th>\n",
       "      <td>Ridge</td>\n",
       "      <td>1.684637</td>\n",
       "      <td>3.157389</td>\n",
       "      <td>2942.570789</td>\n",
       "      <td>1.882975</td>\n",
       "      <td>1.274415</td>\n",
       "    </tr>\n",
       "  </tbody>\n",
       "</table>\n",
       "</div>"
      ],
      "text/plain": [
       "               Model  Training Score  Test Score  Mean Square Error  \\\n",
       "0  Linear Regression        1.684637    3.157598        2942.564443   \n",
       "1       DecisionTree      100.000000   96.257851         113.705500   \n",
       "2       RandomForest       99.660131   97.929587          62.909661   \n",
       "3                KNN       75.429030   53.115694        1424.583540   \n",
       "4           AdaBoost       11.638068   10.493368        2719.666459   \n",
       "5   GradientBoosting       61.712293   58.532693        1259.987570   \n",
       "6              Lasso        1.586378    2.762384        2954.573062   \n",
       "7              Ridge        1.684637    3.157389        2942.570789   \n",
       "\n",
       "   Cross Validation Score  Difference  \n",
       "0                1.882960    1.274638  \n",
       "1               95.552999    0.704852  \n",
       "2               97.678543    0.251045  \n",
       "3               54.394882   -1.279188  \n",
       "4               12.695733   -2.202365  \n",
       "5               60.577349   -2.044656  \n",
       "6                1.801585    0.960798  \n",
       "7                1.882975    1.274415  "
      ]
     },
     "execution_count": 93,
     "metadata": {},
     "output_type": "execute_result"
    }
   ],
   "source": [
    "Performance['Difference']=Performance['Test Score']-Performance['Cross Validation Score']\n",
    "Performance"
   ]
  },
  {
   "cell_type": "markdown",
   "id": "f4f7285c",
   "metadata": {},
   "source": [
    "RandomForest has given us the best test accuracy of 99% with CV score of 97%"
   ]
  },
  {
   "cell_type": "markdown",
   "id": "f07d4b9b",
   "metadata": {},
   "source": [
    "# HyperTuning"
   ]
  },
  {
   "cell_type": "code",
   "execution_count": 94,
   "id": "38a2eb9a",
   "metadata": {},
   "outputs": [],
   "source": [
    "#Importing the libraries for Hypertuning.\n",
    "\n",
    "from sklearn.model_selection import GridSearchCV"
   ]
  },
  {
   "cell_type": "code",
   "execution_count": 95,
   "id": "b9a07f57",
   "metadata": {},
   "outputs": [],
   "source": [
    "parameters1 = {'max_depth': [10, 20, 30, 40, None],\n",
    "                  'max_features': ['auto', 'sqrt'],\n",
    "                  'min_samples_leaf': [1, 2, 4, 6],\n",
    "                  'min_samples_split': [2, 5, 10, 15],\n",
    "                  'n_estimators': [5, 10, 20, 30, 50, 100]}"
   ]
  },
  {
   "cell_type": "code",
   "execution_count": 96,
   "id": "3dc3c416",
   "metadata": {},
   "outputs": [
    {
     "name": "stdout",
     "output_type": "stream",
     "text": [
      "{'max_depth': 30, 'max_features': 'sqrt', 'min_samples_leaf': 1, 'min_samples_split': 2, 'n_estimators': 100}\n"
     ]
    }
   ],
   "source": [
    "GCV1=GridSearchCV(RandomForestRegressor(),parameters1,cv=3)\n",
    "GCV1.fit(X_train,Y_train)\n",
    "\n",
    "print(GCV1.best_params_)"
   ]
  },
  {
   "cell_type": "markdown",
   "id": "1bb47610",
   "metadata": {},
   "source": [
    "We will now fit the above parameters with the model."
   ]
  },
  {
   "cell_type": "code",
   "execution_count": 97,
   "id": "caa1b9c2",
   "metadata": {},
   "outputs": [
    {
     "name": "stdout",
     "output_type": "stream",
     "text": [
      "RandomForestRegressor Performance\n",
      "---------------------------------------------------\n",
      "Accuracy Score 97.93006602810493\n",
      "Cross Validation score 97.75068745075032\n",
      "Mean Square Error 62.89511603733535\n"
     ]
    }
   ],
   "source": [
    "Finalmod1=RandomForestRegressor(max_depth= 30, max_features= 'sqrt', min_samples_leaf= 1, min_samples_split= 2, n_estimators= 100)\n",
    "Finalmod1.fit(X_train,Y_train)\n",
    "pred_test1=Finalmod1.predict(X_test)\n",
    "RF_R2=r2_score(Y_test,pred_test1)\n",
    "RF_scores=cross_val_score(Finalmod1,X,Y,cv=kf)\n",
    "RF_MSE = mean_squared_error(Y_test,pred_test1)\n",
    "print('RandomForestRegressor Performance')\n",
    "print('---------------------------------------------------')\n",
    "print('Accuracy Score', RF_R2*100)\n",
    "print('Cross Validation score',RF_scores.mean()*100)\n",
    "print('Mean Square Error',RF_MSE)"
   ]
  },
  {
   "cell_type": "markdown",
   "id": "a1ffdb3e",
   "metadata": {},
   "source": [
    "# Our model performance has increased slightly"
   ]
  },
  {
   "cell_type": "code",
   "execution_count": 98,
   "id": "4061112f",
   "metadata": {},
   "outputs": [
    {
     "data": {
      "image/png": "[encoded data removed]",
      "text/plain": [
       "<Figure size 720x432 with 1 Axes>"
      ]
     },
     "metadata": {
      "needs_background": "light"
     },
     "output_type": "display_data"
    }
   ],
   "source": [
    "#Plotting the model\n",
    "\n",
    "plt.figure(figsize=(10,6))\n",
    "plt.scatter(x=Y_test,y=pred_test1,color='y')\n",
    "plt.plot(Y_test,Y_test,color='b')\n",
    "plt.xlabel('Actual Price',fontsize=14)\n",
    "plt.ylabel('Predicted Price',fontsize=14)\n",
    "plt.title('RandomForestRegressor',fontsize=18)\n",
    "plt.show()"
   ]
  },
  {
   "cell_type": "markdown",
   "id": "6c7ba93e",
   "metadata": {},
   "source": [
    "There is a slight improvement in the accuracy after hypertuning the model\n",
    "Our model is fitting well. "
   ]
  },
  {
   "cell_type": "code",
   "execution_count": 99,
   "id": "8b15ac1e",
   "metadata": {},
   "outputs": [
    {
     "data": {
      "text/plain": [
       "['Car_price_prediction.obj']"
      ]
     },
     "execution_count": 99,
     "metadata": {},
     "output_type": "execute_result"
    }
   ],
   "source": [
    "#lets dump the model\n",
    "import joblib\n",
    "joblib.dump(Finalmod1,'Car_price_prediction.obj')"
   ]
  }
 ],
 "metadata": {
  "kernelspec": {
   "display_name": "Python 3 (ipykernel)",
   "language": "python",
   "name": "python3"
  },
  "language_info": {
   "codemirror_mode": {
    "name": "ipython",
    "version": 3
   },
   "file_extension": ".py",
   "mimetype": "text/x-python",
   "name": "python",
   "nbconvert_exporter": "python",
   "pygments_lexer": "ipython3",
   "version": "3.9.7"
  }
 },
 "nbformat": 4,
 "nbformat_minor": 5
}
